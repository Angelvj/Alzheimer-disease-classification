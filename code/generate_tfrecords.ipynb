{
  "nbformat": 4,
  "nbformat_minor": 0,
  "metadata": {
    "colab": {
      "name": "generate_tfrecords.ipynb",
      "provenance": [],
      "collapsed_sections": [],
      "machine_shape": "hm",
      "authorship_tag": "ABX9TyPq2R7fG4Pwq/YLclQ1xL4s",
      "include_colab_link": true
    },
    "kernelspec": {
      "name": "python3",
      "display_name": "Python 3"
    },
    "language_info": {
      "name": "python"
    }
  },
  "cells": [
    {
      "cell_type": "markdown",
      "metadata": {
        "id": "view-in-github",
        "colab_type": "text"
      },
      "source": [
        "<a href=\"https://colab.research.google.com/github/Angelvj/Alzheimer-disease-classification/blob/main/code/generate_tfrecords.ipynb\" target=\"_parent\"><img src=\"https://colab.research.google.com/assets/colab-badge.svg\" alt=\"Open In Colab\"/></a>"
      ]
    },
    {
      "cell_type": "markdown",
      "metadata": {
        "id": "bjtbzMZY8o8b"
      },
      "source": [
        "This notebook has the function of converting the original dataset in tfrecords (better performance on i/o operations and other advantages). We will execute this notebook on Google Colab because we can organize the outputs into folders."
      ]
    },
    {
      "cell_type": "markdown",
      "metadata": {
        "id": "GSCeWput8jwe"
      },
      "source": [
        "# Imports"
      ]
    },
    {
      "cell_type": "code",
      "metadata": {
        "id": "EaQd0Oxy8hIm"
      },
      "source": [
        "# Colab only\n",
        "from google.colab import drive"
      ],
      "execution_count": 46,
      "outputs": []
    },
    {
      "cell_type": "code",
      "metadata": {
        "id": "HClHCALcqKm-"
      },
      "source": [
        "import sys\n",
        "import numpy as np, os, shutil, math\n",
        "import tensorflow as tf, csv\n",
        "from sklearn.model_selection import StratifiedKFold, KFold\n",
        "import nibabel as nib"
      ],
      "execution_count": 47,
      "outputs": []
    },
    {
      "cell_type": "code",
      "metadata": {
        "id": "RkD1Ol2Y3On5"
      },
      "source": [
        "def load_image(path):    \n",
        "\n",
        "    img = nib.load(path)\n",
        "    img = np.asarray(img.dataobj, dtype=np.float32)\n",
        "    img = np.expand_dims(img, axis=3) # Add dummy axis for channel\n",
        "    return img\n",
        "\n",
        "def max_intensity_normalization(X, proportion):\n",
        "\n",
        "    n_max_values = int(np.prod(X.shape, axis=0) * proportion)\n",
        "    n_max_idx = np.unravel_index((X).argsort(axis=None)[-n_max_values:], X.shape)\n",
        "    mean = np.mean(X[n_max_idx])\n",
        "    X /= mean\n",
        "\n",
        "def preprocess_image(X, steps, arguments):\n",
        "\n",
        "    for f, args in zip(steps, arguments):\n",
        "        f(X, *arguments)"
      ],
      "execution_count": 48,
      "outputs": []
    },
    {
      "cell_type": "markdown",
      "metadata": {
        "id": "mmorIHDy9B9b"
      },
      "source": [
        "# Generate Tfrecords dataset from images"
      ]
    },
    {
      "cell_type": "code",
      "metadata": {
        "id": "0T_ekMFklBCC"
      },
      "source": [
        "# We can store three types of data in a TFRecord: bytestring, integer and floats. \n",
        "# They are always stored as lists, a single data element will be a list of size 1\n",
        "def _bytestring_feature(list_of_bytestrings):\n",
        "    return tf.train.Feature(bytes_list=tf.train.BytesList(value=list_of_bytestrings))\n",
        "\n",
        "def _float_feature(list_of_floats): # float32\n",
        "    return tf.train.Feature(float_list=tf.train.FloatList(value=list_of_floats))\n",
        "\n",
        "def _int_feature(list_of_ints): # int64\n",
        "    return tf.train.Feature(int64_list=tf.train.Int64List(value=list_of_ints))\n",
        "\n",
        "def to_tfrecord(image, label):\n",
        "    \n",
        "    one_hot_label = np.eye(3, dtype=np.int64)[label]\n",
        "        \n",
        "    feature = {\n",
        "        'image': _float_feature(image),\n",
        "        'one_hot_label': _float_feature(one_hot_label.tolist())\n",
        "    }\n",
        "    \n",
        "    # Create a Features message\n",
        "    return tf.train.Example(features=tf.train.Features(feature=feature))"
      ],
      "execution_count": 49,
      "outputs": []
    },
    {
      "cell_type": "code",
      "metadata": {
        "id": "o_9M5vyf4dBj"
      },
      "source": [
        "def generate_tfrecords(img_paths, img_labels, tfrecords_dir, preprocess_steps=None, prepr_args=None, num_folds=15, \n",
        "                       num_samples=None, stratify=True, shuffle=True, create_folders=True):#, tfrecords_metadata):\n",
        "    \"\"\"Given path to images and corresponding labels, creates num_folds tfrecords containing the images, \n",
        "    or tfrecords containing num_samples each.\"\"\"\n",
        "    \n",
        "    if create_folders and not os.path.exists(tfrecords_dir):\n",
        "        os.makedirs(tfrecords_dir)\n",
        "    \n",
        "    if num_samples is not None:\n",
        "        num_folds = math.ceil(len(img_paths)/num_samples)\n",
        "\n",
        "    if stratify:\n",
        "        kfold = StratifiedKFold(n_splits=num_folds, shuffle=shuffle)\n",
        "    else:\n",
        "        kfold = KFold(n_splits=num_folds, shuffle=shuffle)\n",
        "    \n",
        "    for n, (_, indices) in enumerate(kfold.split(img_paths, img_labels)):\n",
        "        \n",
        "        np.random.shuffle(indices)\n",
        "        \n",
        "        # If folders are created, we don't need to add extra info in the name\n",
        "        tfrecord_name = f'tfrecord{n}-{len(indices)}.tfrec' if create_folders else f'{tfrecords_dir}{n}-{len(indices)}.tfrec'\n",
        "\n",
        "        aux = os.path.join(tfrecords_dir, tfrecord_name) if create_folders else tfrecord_name\n",
        "        \n",
        "        with tf.io.TFRecordWriter(aux) as writer:\n",
        "\n",
        "            for index in indices:\n",
        "\n",
        "                filename = img_paths[index]\n",
        "                label = img_labels[index]\n",
        "                img = np.nan_to_num(load_image(filename), copy=False)\n",
        "                if preprocess_steps != None:\n",
        "                    preprocess_image(img, preprocess_steps, prepr_args)\n",
        "                example = to_tfrecord(img.ravel(), label)\n",
        "                writer.write(example.SerializeToString())"
      ],
      "execution_count": 54,
      "outputs": []
    },
    {
      "cell_type": "code",
      "metadata": {
        "id": "L2gdz8zd-XT9"
      },
      "source": [
        "def stratified_train_test_split(y, test_size = 0.2):\n",
        "    \"\"\" \n",
        "    Given the labels of a dataset, split it into train and test sets, maintaining\n",
        "    proportion of each class (return indices, not data).\n",
        "    \"\"\"\n",
        "    if not isinstance(y, np.ndarray):\n",
        "        y = np.array(y)\n",
        "\n",
        "    train_idx = np.zeros((0,), np.int64)\n",
        "    test_idx = np.zeros((0,), np.int64)\n",
        "\n",
        "    for label in np.unique(y):\n",
        "        idx = np.where(y==label)[0]\n",
        "        test_idx_aux = np.random.choice(idx, int(idx.shape[0]*test_size), replace=False)\n",
        "        test_idx = np.concatenate((test_idx, test_idx_aux))\n",
        "        train_idx = np.concatenate((train_idx, np.setdiff1d(idx, test_idx_aux, assume_unique=True)))\n",
        "\n",
        "    return train_idx, test_idx"
      ],
      "execution_count": 51,
      "outputs": []
    },
    {
      "cell_type": "code",
      "metadata": {
        "id": "12UBtsAWqxp5",
        "colab": {
          "base_uri": "https://localhost:8080/"
        },
        "outputId": "9acb5ced-4b32-4869-a4c1-ffd264f87a9f"
      },
      "source": [
        "# Classes in the dataset. Note: the position in the vector sets the class label\n",
        "CLASSES = ['NOR', 'AD', 'MCI']\n",
        "\n",
        "drive.mount('/content/drive')\n",
        "DATA_PATH = '/content/drive/My Drive/data/'"
      ],
      "execution_count": 55,
      "outputs": [
        {
          "output_type": "stream",
          "text": [
            "Drive already mounted at /content/drive; to attempt to forcibly remount, call drive.mount(\"/content/drive\", force_remount=True).\n"
          ],
          "name": "stdout"
        }
      ]
    },
    {
      "cell_type": "markdown",
      "metadata": {
        "id": "ogg3zU41N4Ah"
      },
      "source": [
        "# 1. AD - PET images"
      ]
    },
    {
      "cell_type": "markdown",
      "metadata": {
        "id": "GABzDdYmR0lv"
      },
      "source": [
        "## 1.1 : Spatially normalized (elastic deformations) PET images."
      ]
    },
    {
      "cell_type": "code",
      "metadata": {
        "id": "Mx3eZa9WTKNy"
      },
      "source": [
        "DS = 'ad-preprocessed'\n",
        "DS_PATH =  DATA_PATH + DS\n",
        "\n",
        "# Path to images\n",
        "pet_paths = np.empty((0,), dtype=str)\n",
        "pet_labels = np.empty((0,), dtype=np.int64)\n",
        "\n",
        "for label, c in enumerate(CLASSES):\n",
        "    pattern = os.path.join(DS_PATH, c, 'PET') + '/*.nii'\n",
        "    pet_paths = np.concatenate((pet_paths, np.array(tf.io.gfile.glob(pattern))))\n",
        "    pet_labels = np.concatenate((pet_labels, np.full(len(pet_paths) - len(pet_labels), label, dtype=np.int64)))\n",
        "\n",
        "train_idx, test_idx = stratified_train_test_split(pet_labels, test_size=0.2)\n",
        "np.random.shuffle(train_idx); np.random.shuffle(test_idx) # Add some randomness"
      ],
      "execution_count": 43,
      "outputs": []
    },
    {
      "cell_type": "markdown",
      "metadata": {
        "id": "k-PBlxKySh3D"
      },
      "source": [
        "### 1.1.1: Non intensity normalized (tfrecords)"
      ]
    },
    {
      "cell_type": "code",
      "metadata": {
        "cellView": "code",
        "id": "BF-lws3GSzo6"
      },
      "source": [
        "OUT_DS = 'tfrec-20skf-PET-spatialnorm-elastic'\n",
        "OUT_PATH = DATA_PATH + OUT_DS\n",
        "\n",
        "generate_tfrecords(pet_paths[train_idx], pet_labels[train_idx], OUT_PATH + '/train', \n",
        "                   num_folds=20, stratify=True, shuffle=True, create_folders=True)\n",
        "\n",
        "generate_tfrecords(pet_paths[test_idx], pet_labels[test_idx], OUT_PATH + '/test', \n",
        "                   num_folds=16, stratify=False, shuffle=False, create_folders=True)"
      ],
      "execution_count": 44,
      "outputs": []
    },
    {
      "cell_type": "markdown",
      "metadata": {
        "id": "qFL_834KSosA"
      },
      "source": [
        "### 1.1.2: Intensity normalized (tfrecords)"
      ]
    },
    {
      "cell_type": "code",
      "metadata": {
        "id": "TfYMtLkqS_MI"
      },
      "source": [
        "OUT_DS = 'tfrec-20skf-PET-spatialnorm-elastic-intensitynorm'\n",
        "OUT_PATH = DATA_PATH + OUT_DS\n",
        "\n",
        "preprocess_steps = [max_intensity_normalization]\n",
        "preprocess_args = [(0.01)]\n",
        "\n",
        "generate_tfrecords(pet_paths[train_idx], pet_labels[train_idx], OUT_PATH + '/train', \n",
        "                   preprocess_steps, preprocess_args, 20)\n",
        "\n",
        "generate_tfrecords(pet_paths[test_idx], pet_labels[test_idx], OUT_PATH + '/test', \n",
        "                   preprocess_steps, preprocess_args, 16, stratify=False, shuffle=False)"
      ],
      "execution_count": 45,
      "outputs": []
    },
    {
      "cell_type": "markdown",
      "metadata": {
        "id": "j7ZZ4OhpSNmI"
      },
      "source": [
        "## 1.2: Spatially normalized (non-elastic deformations)."
      ]
    },
    {
      "cell_type": "markdown",
      "metadata": {
        "id": "svDeRULEQtxA"
      },
      "source": [
        "# 2. AD - MRI Images"
      ]
    },
    {
      "cell_type": "code",
      "metadata": {
        "id": "gMzppPG5q3t4"
      },
      "source": [
        "# # Path to MRI, grey matter images\n",
        "# mri_grey_paths = np.empty((0,), dtype=str)\n",
        "# mri_grey_labels = np.empty((0,), dtype=np.int64)\n",
        "\n",
        "# for label, c in enumerate(CLASSES):\n",
        "#     pattern = os.path.join(DS_PATH, c, 'MRI/grey') + '/*.nii'\n",
        "#     mri_grey_paths = np.concatenate((mri_grey_paths, np.array(tf.io.gfile.glob(pattern))))\n",
        "#     mri_grey_labels = np.concatenate((mri_grey_labels, np.full(len(mri_grey_paths) - len(mri_grey_labels), label, dtype=np.int64)))\n",
        "    \n",
        "# # Path to MRI, white matter images\n",
        "# mri_white_paths = np.empty((0,), dtype=str)\n",
        "# mri_white_labels = np.empty((0,), dtype=np.int64)\n",
        "\n",
        "# for label, c in enumerate(CLASSES):\n",
        "#     pattern = os.path.join(DS_PATH, c, 'MRI/white') + '/*.nii'\n",
        "#     mri_white_paths = np.concatenate((mri_white_paths, np.array(tf.io.gfile.glob(pattern))))\n",
        "#     mri_white_labels = np.concatenate((mri_white_labels, np.full(len(mri_white_paths) - len(mri_white_labels), label, dtype=np.int64)))"
      ],
      "execution_count": null,
      "outputs": []
    },
    {
      "cell_type": "code",
      "metadata": {
        "id": "zWsrMYYqrBnM"
      },
      "source": [
        "# # Put all images in the same order so that each position on the three datasets correspond to the same patient\n",
        "# # This is not useful by now, it will be useful in a future ensemble model with MRI and PET.\n",
        "# idx = np.argsort(pet_paths)\n",
        "# pet_paths, pet_labels = pet_paths[idx], pet_labels[idx]\n",
        "\n",
        "# idx = np.argsort(mri_grey_paths)\n",
        "# mri_grey_paths, mri_grey_labels = mri_grey_paths[idx], mri_grey_labels[idx]\n",
        "\n",
        "# idx = np.argsort(mri_white_paths)\n",
        "# mri_white_paths, mri_white_labels = mri_white_paths[idx], mri_white_labels[idx]"
      ],
      "execution_count": null,
      "outputs": []
    },
    {
      "cell_type": "code",
      "metadata": {
        "id": "Hjw1gBmDrDKq"
      },
      "source": [
        "# # Generating datasets with tfrecords\n",
        "# train_idx, test_idx = stratified_train_test_split(pet_labels, test_size=0.2)\n",
        "\n",
        "# np.random.shuffle(train_idx); np.random.shuffle(test_idx) # Add some randomness\n",
        "\n",
        "# generate_tfrecords(pet_paths[train_idx], pet_labels[train_idx], OUT_PATH + '/PET/train', \n",
        "#                    OUT_PATH + '/PET/train/tfrec_metadata.csv', num_folds=20, stratify=True, \n",
        "#                    shuffle=True, create_folders=True)\n",
        "# generate_tfrecords(pet_paths[test_idx], pet_labels[test_idx], OUT_PATH + '/PET/test', \n",
        "#                    OUT_PATH + '/PET/test/tfrec_metadata.csv', num_folds=16, stratify=False, \n",
        "#                    shuffle=False, create_folders=True)\n",
        "\n",
        "# generate_tfrecords(mri_grey_paths[train_idx], mri_grey_labels[train_idx], OUT_PATH + '/MRI/white/train', \n",
        "#                    OUT_PATH + '/MRI/white/train/tfrec_metadata.csv',num_folds=20, stratify=True, \n",
        "#                    shuffle=True, create_folders=True)\n",
        "# generate_tfrecords(mri_grey_paths[test_idx], mri_grey_labels[test_idx], OUT_PATH + '/MRI/white/test', \n",
        "#                    OUT_PATH + '/MRI/white/test/tfrec_metadata.csv', num_folds=16, stratify=False, \n",
        "#                    shuffle=False, create_folders=True)\n",
        "\n",
        "# generate_tfrecords(mri_white_paths[train_idx], mri_white_labels[train_idx], OUT_PATH + '/MRI/grey/train', \n",
        "#                    OUT_PATH +'/MRI/grey/train/tfrec_metadata.csv',num_folds=20, stratify=True, \n",
        "#                    shuffle=True, create_folders=True)\n",
        "# generate_tfrecords(mri_white_paths[test_idx], mri_white_labels[test_idx], OUT_PATH + '/MRI/grey/test', \n",
        "#                    OUT_PATH + '/MRI/grey/test/tfrec_metadata.csv',num_folds=16, stratify=False, \n",
        "#                    shuffle=False, create_folders=True)"
      ],
      "execution_count": null,
      "outputs": []
    }
  ]
}