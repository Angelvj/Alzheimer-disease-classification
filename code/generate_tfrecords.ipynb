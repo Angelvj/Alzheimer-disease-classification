{
  "nbformat": 4,
  "nbformat_minor": 0,
  "metadata": {
    "colab": {
      "name": "generate_tfrecords.ipynb",
      "provenance": [],
      "collapsed_sections": [],
      "machine_shape": "hm",
      "authorship_tag": "ABX9TyOz4fjKCk6m2fDRIIuOPPGL",
      "include_colab_link": true
    },
    "kernelspec": {
      "name": "python3",
      "display_name": "Python 3"
    },
    "language_info": {
      "name": "python"
    },
    "accelerator": "GPU"
  },
  "cells": [
    {
      "cell_type": "markdown",
      "metadata": {
        "id": "view-in-github",
        "colab_type": "text"
      },
      "source": [
        "<a href=\"https://colab.research.google.com/github/Angelvj/Alzheimer-disease-classification/blob/main/code/generate_tfrecords.ipynb\" target=\"_parent\"><img src=\"https://colab.research.google.com/assets/colab-badge.svg\" alt=\"Open In Colab\"/></a>"
      ]
    },
    {
      "cell_type": "markdown",
      "metadata": {
        "id": "bjtbzMZY8o8b"
      },
      "source": [
        "This notebook has the function of converting the original dataset in tfrecords (better performance on i/o operations and other advantages). We will execute this notebook on Google Colab because we can organize the outputs into folders."
      ]
    },
    {
      "cell_type": "markdown",
      "metadata": {
        "id": "GSCeWput8jwe"
      },
      "source": [
        "# Imports"
      ]
    },
    {
      "cell_type": "code",
      "metadata": {
        "id": "EaQd0Oxy8hIm"
      },
      "source": [
        "# Colab only\n",
        "from google.colab import drive"
      ],
      "execution_count": 1,
      "outputs": []
    },
    {
      "cell_type": "code",
      "metadata": {
        "id": "HClHCALcqKm-"
      },
      "source": [
        "import numpy as np, os, shutil\n",
        "import math\n",
        "import tensorflow as tf\n",
        "import nibabel as nib\n",
        "from sklearn.model_selection import StratifiedKFold, KFold\n",
        "import csv"
      ],
      "execution_count": 2,
      "outputs": []
    },
    {
      "cell_type": "code",
      "metadata": {
        "colab": {
          "base_uri": "https://localhost:8080/"
        },
        "id": "RkD1Ol2Y3On5",
        "outputId": "fdeba434-7018-46cc-f059-ea3c40c78dce"
      },
      "source": [
        "if os.path.exists('cloned_repo'):\n",
        "    shutil.rmtree('cloned_repo')\n",
        "    \n",
        "!git clone -l -s https://github.com/Angelvj/TFG.git cloned_repo\n",
        "\n",
        "# Imports from my github repo\n",
        "from cloned_repo.code.image_reading import *"
      ],
      "execution_count": 3,
      "outputs": [
        {
          "output_type": "stream",
          "text": [
            "Cloning into 'cloned_repo'...\n",
            "warning: --local is ignored\n",
            "remote: Enumerating objects: 279, done.\u001b[K\n",
            "remote: Counting objects: 100% (279/279), done.\u001b[K\n",
            "remote: Compressing objects: 100% (223/223), done.\u001b[K\n",
            "remote: Total 279 (delta 100), reused 61 (delta 15), pack-reused 0\u001b[K\n",
            "Receiving objects: 100% (279/279), 3.08 MiB | 2.91 MiB/s, done.\n",
            "Resolving deltas: 100% (100/100), done.\n"
          ],
          "name": "stdout"
        }
      ]
    },
    {
      "cell_type": "markdown",
      "metadata": {
        "id": "L4qKCGzk8zzG"
      },
      "source": [
        "# Input data path"
      ]
    },
    {
      "cell_type": "code",
      "metadata": {
        "colab": {
          "base_uri": "https://localhost:8080/"
        },
        "id": "hHrTU8L_8xzB",
        "outputId": "dc7c87f8-8da1-49ad-a3b2-a0e2753de851"
      },
      "source": [
        "DS = 'ad-preprocessed' # choose the input dataset\n",
        "\n",
        "KAGGLE = False\n",
        "\n",
        "if KAGGLE:\n",
        "    DS_PATH = '/kaggle/input/' + DS\n",
        "\n",
        "else:\n",
        "    drive.mount('/content/drive')\n",
        "    DATA_PATH = '/content/drive/My Drive/data/'\n",
        "    DS_PATH =  DATA_PATH + DS"
      ],
      "execution_count": 4,
      "outputs": [
        {
          "output_type": "stream",
          "text": [
            "Mounted at /content/drive\n"
          ],
          "name": "stdout"
        }
      ]
    },
    {
      "cell_type": "markdown",
      "metadata": {
        "id": "qiPSMf8P82zD"
      },
      "source": [
        "# Output data path"
      ]
    },
    {
      "cell_type": "code",
      "metadata": {
        "id": "HVUeMiSd85kg"
      },
      "source": [
        "OUT_DS = 'tfrecords-preprocessed-20skf'\n",
        "\n",
        "if KAGGLE:\n",
        "    OUT_PATH = './' + OUT_DS\n",
        "else:\n",
        "    OUT_PATH = DATA_PATH + OUT_DS"
      ],
      "execution_count": 5,
      "outputs": []
    },
    {
      "cell_type": "markdown",
      "metadata": {
        "id": "mmorIHDy9B9b"
      },
      "source": [
        "# Generate Tfrecords dataset from images\n",
        "\n",
        "Links of interest: [1](http://https://www.tensorflow.org/tutorials/load_data/tfrecord?hl=en#data_types_for_tftrainexample), [2](https://colab.research.google.com/github/GoogleCloudPlatform/training-data-analyst/blob/master/courses/fast-and-lean-data-science/03_Flower_pictures_to_TFRecords.ipynb#scrollTo=9X82-4D2syG4)"
      ]
    },
    {
      "cell_type": "code",
      "metadata": {
        "id": "0T_ekMFklBCC"
      },
      "source": [
        "# We can store three types of data in a TFRecord: bytestring, integer and floats. \n",
        "# They are always stored as lists, a single data element will be a list of size 1\n",
        "def _bytestring_feature(list_of_bytestrings):\n",
        "    return tf.train.Feature(bytes_list=tf.train.BytesList(value=list_of_bytestrings))\n",
        "\n",
        "def _float_feature(list_of_floats): # float32\n",
        "    return tf.train.Feature(float_list=tf.train.FloatList(value=list_of_floats))\n",
        "\n",
        "def _int_feature(list_of_ints): # int64\n",
        "    return tf.train.Feature(int64_list=tf.train.Int64List(value=list_of_ints))\n",
        "\n",
        "def to_tfrecord(image, label, shape, filename):\n",
        "    \n",
        "    one_hot_label = np.eye(3)[label]\n",
        "        \n",
        "    feature = {\n",
        "        'image': _float_feature(image),\n",
        "        'label': _int_feature([label]),\n",
        "        'one_hot_label': _float_feature(one_hot_label.tolist()),\n",
        "        'shape': _int_feature(shape),\n",
        "        'filename': _bytestring_feature([filename]) # Delete later\n",
        "    }\n",
        "    \n",
        "    # Create a Features message using tf.train.Example.\n",
        "    return tf.train.Example(features=tf.train.Features(feature=feature))"
      ],
      "execution_count": 6,
      "outputs": []
    },
    {
      "cell_type": "code",
      "metadata": {
        "id": "o_9M5vyf4dBj"
      },
      "source": [
        "def generate_tfrecords(img_paths, img_labels, tfrecords_dir, tfrecords_metadata, num_folds=15, \n",
        "                       num_samples=None, stratify=True, shuffle=True, create_folders=True):\n",
        "    \"\"\"Given path to images and corresponding labels, creates num_folds tfrecords containing the images, \n",
        "    or tfrecords containing num_samples each.\"\"\"\n",
        "    \n",
        "    if create_folders and not os.path.exists(tfrecords_dir):\n",
        "        os.makedirs(tfrecords_dir)\n",
        "    \n",
        "    if num_samples is not None:\n",
        "        num_folds = math.ceil(len(img_paths)/num_samples)\n",
        "        \n",
        "    with open(tfrecords_metadata, 'w', encoding='UTF8', newline='') as f:\n",
        "        writer = csv.writer(f)\n",
        "        row = ['tfrecord_name', 'total_samples']\n",
        "        for c in CLASSES:\n",
        "            row.append(c)\n",
        "        writer.writerow(row)\n",
        "\n",
        "    f = open(tfrecords_metadata, 'a', encoding='UTF8', newline='')\n",
        "    csv_writer = csv.writer(f)\n",
        "\n",
        "    if stratify:\n",
        "        kfold = StratifiedKFold(n_splits=num_folds, shuffle=shuffle)\n",
        "    else:\n",
        "        kfold = KFold(n_splits=num_folds, shuffle=shuffle)\n",
        "    \n",
        "    for n, (_, indices) in enumerate(kfold.split(img_paths, img_labels)):\n",
        "        # If folders are created, we don't need to add extra info in the name\n",
        "        tfrecord_name = f'tfrecord{n}-{len(indices)}.tfrec' if create_folders else f'{tfrecords_dir}{n}-{len(indices)}.tfrec'\n",
        "        num_samples = str(len(indices))\n",
        "        unique, counts = np.unique(img_labels[indices], return_counts=True)\n",
        "        per_class_count = np.zeros(len(CLASSES), dtype=np.int64)\n",
        "        per_class_count[unique] = counts\n",
        "        per_class_count = list(per_class_count.astype(str))\n",
        "        row = [tfrecord_name] + [num_samples] + per_class_count\n",
        "        csv_writer.writerow(row)\n",
        "        \n",
        "        aux = os.path.join(tfrecords_dir, tfrecord_name) if create_folders else tfrecord_name\n",
        "        \n",
        "        with tf.io.TFRecordWriter(aux) as writer:\n",
        "            for index in indices:\n",
        "                filename = img_paths[index]\n",
        "                img = np.nan_to_num(load_image(filename), copy=False)\n",
        "                label = img_labels[index]\n",
        "                example = to_tfrecord(img.ravel(), label, img.shape, str.encode(filename))\n",
        "                writer.write(example.SerializeToString())\n",
        "    f.close()"
      ],
      "execution_count": 7,
      "outputs": []
    },
    {
      "cell_type": "code",
      "metadata": {
        "id": "L2gdz8zd-XT9"
      },
      "source": [
        "def stratified_train_test_split(y, test_size = 0.2):\n",
        "    \"\"\" \n",
        "    Given the labels of a dataset, split it into train and test sets, maintaining\n",
        "    proportion of each class (return indices, not data).\n",
        "    \"\"\"\n",
        "    if not isinstance(y, np.ndarray):\n",
        "        y = np.array(y)\n",
        "\n",
        "    train_idx = np.zeros((0,), np.int16)\n",
        "    test_idx = np.zeros((0,), np.int16)\n",
        "\n",
        "    for label in np.unique(y):\n",
        "        idx = np.where(y==label)[0]\n",
        "        test_idx_aux = np.random.choice(idx, int(idx.shape[0]*test_size), replace=False)\n",
        "        test_idx = np.concatenate((test_idx, test_idx_aux))\n",
        "        train_idx = np.concatenate((train_idx, np.setdiff1d(idx, test_idx_aux, assume_unique=True)))\n",
        "\n",
        "    return train_idx, test_idx"
      ],
      "execution_count": 8,
      "outputs": []
    },
    {
      "cell_type": "code",
      "metadata": {
        "id": "12UBtsAWqxp5"
      },
      "source": [
        "# Classes in the dataset\n",
        "CLASSES = ['NOR', 'AD', 'MCI']"
      ],
      "execution_count": 9,
      "outputs": []
    },
    {
      "cell_type": "code",
      "metadata": {
        "id": "gMzppPG5q3t4"
      },
      "source": [
        "# Path to PET images\n",
        "pet_paths = np.empty((0,), dtype=str)\n",
        "pet_labels = np.empty((0,), dtype=np.int64)\n",
        "\n",
        "for label, c in enumerate(CLASSES):\n",
        "    pattern = os.path.join(DS_PATH, c, 'PET') + '/*.nii'\n",
        "    pet_paths = np.concatenate((pet_paths, np.array(tf.io.gfile.glob(pattern))))\n",
        "    pet_labels = np.concatenate((pet_labels, np.full(len(pet_paths) - len(pet_labels), label, dtype=np.int64)))\n",
        "\n",
        "# Path to MRI, grey matter images\n",
        "mri_grey_paths = np.empty((0,), dtype=str)\n",
        "mri_grey_labels = np.empty((0,), dtype=np.int64)\n",
        "\n",
        "for label, c in enumerate(CLASSES):\n",
        "    pattern = os.path.join(DS_PATH, c, 'MRI/grey') + '/*.nii'\n",
        "    mri_grey_paths = np.concatenate((mri_grey_paths, np.array(tf.io.gfile.glob(pattern))))\n",
        "    mri_grey_labels = np.concatenate((mri_grey_labels, np.full(len(mri_grey_paths) - len(mri_grey_labels), label, dtype=np.int64)))\n",
        "    \n",
        "# Path to MRI, white matter images\n",
        "mri_white_paths = np.empty((0,), dtype=str)\n",
        "mri_white_labels = np.empty((0,), dtype=np.int64)\n",
        "\n",
        "for label, c in enumerate(CLASSES):\n",
        "    pattern = os.path.join(DS_PATH, c, 'MRI/white') + '/*.nii'\n",
        "    mri_white_paths = np.concatenate((mri_white_paths, np.array(tf.io.gfile.glob(pattern))))\n",
        "    mri_white_labels = np.concatenate((mri_white_labels, np.full(len(mri_white_paths) - len(mri_white_labels), label, dtype=np.int64)))"
      ],
      "execution_count": 10,
      "outputs": []
    },
    {
      "cell_type": "code",
      "metadata": {
        "id": "zWsrMYYqrBnM"
      },
      "source": [
        "# Put all images in the same order so that each position on the three datasets correspond to the same patient\n",
        "# This is not useful by now, it will be useful in a future ensemble model with MRI and PET.\n",
        "idx = np.argsort(pet_paths)\n",
        "pet_paths, pet_labels = pet_paths[idx], pet_labels[idx]\n",
        "\n",
        "idx = np.argsort(mri_grey_paths)\n",
        "mri_grey_paths, mri_grey_labels = mri_grey_paths[idx], mri_grey_labels[idx]\n",
        "\n",
        "idx = np.argsort(mri_white_paths)\n",
        "mri_white_paths, mri_white_labels = mri_white_paths[idx], mri_white_labels[idx]"
      ],
      "execution_count": 11,
      "outputs": []
    },
    {
      "cell_type": "code",
      "metadata": {
        "id": "Hjw1gBmDrDKq"
      },
      "source": [
        "# Generating datasets with tfrecords\n",
        "train_idx, test_idx = stratified_train_test_split(pet_labels, test_size=0.2)\n",
        "\n",
        "generate_tfrecords(pet_paths[train_idx], pet_labels[train_idx], OUT_PATH + '/PET/train', \n",
        "                   OUT_PATH + '/PET/train/tfrec_metadata.csv', num_folds=20, stratify=True, \n",
        "                   shuffle=True, create_folders=True)\n",
        "generate_tfrecords(pet_paths[test_idx], pet_labels[test_idx], OUT_PATH + '/PET/test', \n",
        "                   OUT_PATH + '/PET/test/tfrec_metadata.csv', num_folds=16, stratify=False, \n",
        "                   shuffle=False, create_folders=True)\n",
        "\n",
        "generate_tfrecords(mri_grey_paths[train_idx], mri_grey_labels[train_idx], OUT_PATH + '/MRI/white/train', \n",
        "                   OUT_PATH + '/MRI/white/train/tfrec_metadata.csv',num_folds=20, stratify=True, \n",
        "                   shuffle=True, create_folders=True)\n",
        "generate_tfrecords(mri_grey_paths[test_idx], mri_grey_labels[test_idx], OUT_PATH + '/MRI/white/test', \n",
        "                   OUT_PATH + '/MRI/white/test/tfrec_metadata.csv', num_folds=16, stratify=False, \n",
        "                   shuffle=False, create_folders=True)\n",
        "\n",
        "generate_tfrecords(mri_white_paths[train_idx], mri_white_labels[train_idx], OUT_PATH + '/MRI/grey/train', \n",
        "                   OUT_PATH +'/MRI/grey/train/tfrec_metadata.csv',num_folds=20, stratify=True, \n",
        "                   shuffle=True, create_folders=True)\n",
        "generate_tfrecords(mri_white_paths[test_idx], mri_white_labels[test_idx], OUT_PATH + '/MRI/grey/test', \n",
        "                   OUT_PATH + '/MRI/grey/test/tfrec_metadata.csv',num_folds=16, stratify=False, \n",
        "                   shuffle=False, create_folders=True)"
      ],
      "execution_count": null,
      "outputs": []
    },
    {
      "cell_type": "code",
      "metadata": {
        "id": "_hfgX01LrF__"
      },
      "source": [
        "# shutil.rmtree('PET')\n",
        "# shutil.rmtree('MRI')\n",
        "# shutil.rmtree('cloned_repo')"
      ],
      "execution_count": null,
      "outputs": []
    }
  ]
}