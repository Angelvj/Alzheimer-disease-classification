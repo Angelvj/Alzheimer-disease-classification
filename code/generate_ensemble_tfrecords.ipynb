{
  "nbformat": 4,
  "nbformat_minor": 0,
  "metadata": {
    "colab": {
      "name": "generate_ensemble_tfrecords.ipynb",
      "provenance": [],
      "authorship_tag": "ABX9TyNeEGqaAcS+BRYhfw3uHf2Q",
      "include_colab_link": true
    },
    "kernelspec": {
      "name": "python3",
      "display_name": "Python 3"
    },
    "language_info": {
      "name": "python"
    }
  },
  "cells": [
    {
      "cell_type": "markdown",
      "metadata": {
        "id": "view-in-github",
        "colab_type": "text"
      },
      "source": [
        "<a href=\"https://colab.research.google.com/github/Angelvj/Alzheimer-disease-classification/blob/main/code/generate_ensemble_tfrecords.ipynb\" target=\"_parent\"><img src=\"https://colab.research.google.com/assets/colab-badge.svg\" alt=\"Open In Colab\"/></a>"
      ]
    },
    {
      "cell_type": "code",
      "metadata": {
        "id": "-TtcJKQAAluP"
      },
      "source": [
        "# Colab only\n",
        "from google.colab import drive"
      ],
      "execution_count": 13,
      "outputs": []
    },
    {
      "cell_type": "code",
      "metadata": {
        "id": "3KiknTytA1s7"
      },
      "source": [
        "import sys\n",
        "import numpy as np, os, shutil, math\n",
        "import tensorflow as tf, csv\n",
        "from sklearn.model_selection import StratifiedKFold, KFold, train_test_split\n",
        "import nibabel as nib\n",
        "import skimage.transform as transform\n",
        "import matplotlib.pyplot as plt"
      ],
      "execution_count": 14,
      "outputs": []
    },
    {
      "cell_type": "code",
      "metadata": {
        "id": "_F3xE5-DA3Ag"
      },
      "source": [
        "def load_image(path, add_axis=True):    \n",
        "\n",
        "    img = nib.load(path)\n",
        "    img = np.asarray(img.dataobj, dtype=np.float32)\n",
        "    if add_axis:\n",
        "        img = np.expand_dims(img, axis=3) # Add axis for channel\n",
        "\n",
        "    return img\n",
        "\n",
        "def downscale(image, shape):\n",
        "    'For upscale, anti_aliasing should be false'\n",
        "    return transform.resize(image, shape, mode='constant', anti_aliasing=True)\n",
        "\n",
        "def standarize(X):\n",
        "\n",
        "    mean = np.mean(X)\n",
        "    std = np.std(X)\n",
        "    \n",
        "    if std > 0:\n",
        "        X -= mean\n",
        "        X /= std\n",
        "    else:\n",
        "        X *= 0\n",
        "\n",
        "def max_intensity_normalization(X, proportion):\n",
        "\n",
        "    n_max_values = int(np.prod(X.shape, axis=0) * proportion)\n",
        "    n_max_idx = np.unravel_index((X).argsort(axis=None)[-n_max_values:], X.shape)\n",
        "    mean = np.mean(X[n_max_idx])\n",
        "    X /= mean\n",
        "\n",
        "def preprocess_image(X, steps, arguments):\n",
        "\n",
        "    for f, args in zip(steps, arguments):\n",
        "        if args is None:\n",
        "            f(X)\n",
        "        else:\n",
        "            f(X, *args)"
      ],
      "execution_count": 15,
      "outputs": []
    },
    {
      "cell_type": "code",
      "metadata": {
        "id": "QO9-RaczA7El"
      },
      "source": [
        "# We can store three types of data in a TFRecord: bytestring, integer and floats. \n",
        "# They are always stored as lists, a single data element will be a list of size 1\n",
        "def _bytestring_feature(list_of_bytestrings):\n",
        "    return tf.train.Feature(bytes_list=tf.train.BytesList(value=list_of_bytestrings))\n",
        "\n",
        "def _float_feature(list_of_floats): # float32\n",
        "    return tf.train.Feature(float_list=tf.train.FloatList(value=list_of_floats))\n",
        "\n",
        "def _int_feature(list_of_ints): # int64\n",
        "    return tf.train.Feature(int64_list=tf.train.Int64List(value=list_of_ints))\n",
        "\n",
        "def to_tfrecord(image_pet, image_mri, label):\n",
        "    \n",
        "    one_hot_label = np.eye(3, dtype=np.float32)[label]\n",
        "        \n",
        "    feature = {\n",
        "        'image_pet': _float_feature(image_pet),\n",
        "        'image_mri': _float_feature(image_mri),\n",
        "        'one_hot_label': _float_feature(one_hot_label.tolist())\n",
        "    }\n",
        "    \n",
        "    # Create a Features message\n",
        "    return tf.train.Example(features=tf.train.Features(feature=feature))"
      ],
      "execution_count": 16,
      "outputs": []
    },
    {
      "cell_type": "code",
      "metadata": {
        "id": "WlkGZd-iBBrr"
      },
      "source": [
        "def generate_tfrecords(list_of_filenames, labels, dir, tfrec_name, num_folds=15, \n",
        "                       stratify=True, shuffle=True, random_state=None, make_summary=True):\n",
        "    \"\"\"Given path to images and corresponding labels, creates num_folds tfrecords \n",
        "    containing the images\"\"\"\n",
        "    \n",
        "    if not os.path.exists(dir):\n",
        "        os.makedirs(dir)\n",
        "    \n",
        "    if make_summary:\n",
        "        summary_filename = os.path.join(dir, tfrec_name,)\n",
        "        summary_filename += '_summary.csv'\n",
        "        with open(summary_filename, 'w', encoding='UTF8', newline='') as f:\n",
        "            csv_writer = csv.writer(f)\n",
        "            header = ['tfrec_id', '#samples']\n",
        "            header += [c for c in CLASSES]\n",
        "            csv_writer.writerow(header)\n",
        "\n",
        "        f = open(summary_filename, 'a', encoding='UTF8', newline='')\n",
        "        csv_writer = csv.writer(f)\n",
        "\n",
        "    if stratify:\n",
        "        kfold = StratifiedKFold(num_folds, shuffle, random_state)\n",
        "    else:\n",
        "        kfold = KFold(num_folds, shuffle, random_state)\n",
        "    \n",
        "    for n, (_, indices) in enumerate(kfold.split(list_of_filenames[0], labels)):\n",
        "                \n",
        "        name = f'{tfrec_name}_{n}-{len(indices)}.tfrec'\n",
        "\n",
        "        if make_summary:\n",
        "            num_samples = str(len(indices))\n",
        "            classes, count = np.unique(labels[indices], return_counts=True)\n",
        "            class_counts = np.zeros(len(CLASSES), dtype=np.int64)\n",
        "            class_counts[classes] = count\n",
        "            row = [name] + [num_samples] + list(class_counts.astype(str))\n",
        "            csv_writer.writerow(row)\n",
        "        \n",
        "        with tf.io.TFRecordWriter(os.path.join(dir, name)) as writer:\n",
        "\n",
        "            for index in indices:\n",
        "\n",
        "                filename_pet = list_of_filenames[0][index]\n",
        "                filename_mri = list_of_filenames[1][index]\n",
        "\n",
        "                label = labels[index]\n",
        "\n",
        "                img_pet = np.nan_to_num(load_image(filename_pet), copy=False)\n",
        "                img_mri = np.nan_to_num(load_image(filename_mri), copy=False)\n",
        "\n",
        "                img_pet = preprocess_pet(img_pet)\n",
        "                img_mri = preprocess_mri(img_mri)\n",
        "\n",
        "                example = to_tfrecord(img_pet.ravel(), img_mri.ravel(), label)\n",
        "                writer.write(example.SerializeToString())"
      ],
      "execution_count": 20,
      "outputs": []
    },
    {
      "cell_type": "code",
      "metadata": {
        "id": "1qVQ8OceD1rO"
      },
      "source": [
        "def preprocess_pet(img):\n",
        "    return img\n",
        "\n",
        "def preprocess_mri(img):\n",
        "    return img"
      ],
      "execution_count": 18,
      "outputs": []
    },
    {
      "cell_type": "code",
      "metadata": {
        "colab": {
          "base_uri": "https://localhost:8080/"
        },
        "id": "ZIBIaMqCEBmm",
        "outputId": "e81ad133-a40c-436b-9196-3df19092205b"
      },
      "source": [
        "CLASSES = ['NOR', 'AD', 'MCI']\n",
        "\n",
        "drive.mount('/content/drive')\n",
        "DATA_PATH = '/content/drive/MyDrive/data/'\n",
        "\n",
        "SEED = 27\n",
        "\n",
        "DS = 'ad-preprocessed'\n",
        "DS_PATH = DATA_PATH + DS\n",
        "OUT_DS = 'tfrec-ensemble_mri_pet'\n",
        "OUT_PATH = DATA_PATH + OUT_DS\n",
        "\n",
        "# Path to PET images\n",
        "pet_paths = np.empty((0,), dtype=str)\n",
        "pet_labels = np.empty((0,), dtype=np.int64)\n",
        "\n",
        "\n",
        "for label, c in enumerate(CLASSES):\n",
        "    pattern = os.path.join(DS_PATH, c, 'PET') + '/*.nii'\n",
        "    pet_paths = np.concatenate((pet_paths, np.array(tf.io.gfile.glob(pattern))))\n",
        "    pet_labels = np.concatenate((pet_labels, np.full(len(pet_paths) - len(pet_labels), label, dtype=np.int64)))\n",
        "\n",
        "idx = np.argsort(pet_paths)\n",
        "pet_paths, pet_labels = pet_paths[idx], pet_labels[idx]\n",
        "\n",
        "X_train_pet, X_test_pet, y_train_pet, y_test_pet = train_test_split(pet_paths, pet_labels,\n",
        "                                                    test_size = 0.2,\n",
        "                                                    random_state = SEED,\n",
        "                                                    stratify = pet_labels)\n",
        "\n",
        "# Path to MRI, grey matter images\n",
        "mri_grey_paths = np.empty((0,), dtype=str)\n",
        "mri_grey_labels = np.empty((0,), dtype=np.int64)\n",
        "\n",
        "for label, c in enumerate(CLASSES):\n",
        "    pattern = os.path.join(DS_PATH, c, 'MRI/grey') + '/*.nii'\n",
        "    mri_grey_paths = np.concatenate((mri_grey_paths, np.array(tf.io.gfile.glob(pattern))))\n",
        "    mri_grey_labels = np.concatenate((mri_grey_labels, np.full(len(mri_grey_paths) - len(mri_grey_labels), label, dtype=np.int64)))\n",
        "    \n",
        "idx = np.argsort(mri_grey_paths)\n",
        "mri_grey_paths, mri_grey_labels = mri_grey_paths[idx], mri_grey_labels[idx]\n",
        "\n",
        "X_train_mri, X_test_mri, y_train_mri, y_test_mri = train_test_split(mri_grey_paths, mri_grey_labels,\n",
        "                                                    test_size = 0.2,\n",
        "                                                    random_state = SEED,\n",
        "                                                    stratify = mri_grey_labels)\n",
        "\n",
        "generate_tfrecords([X_train_pet, X_train_mri], y_train_pet, OUT_PATH + '/train', 'train',\n",
        "                   len(X_train_pet), False, False)\n",
        "\n",
        "generate_tfrecords([X_test_pet, X_test_mri], y_train_pet, OUT_PATH + '/test', 'test',\n",
        "                   len(X_test_pet), False, False)"
      ],
      "execution_count": null,
      "outputs": [
        {
          "output_type": "stream",
          "text": [
            "Drive already mounted at /content/drive; to attempt to forcibly remount, call drive.mount(\"/content/drive\", force_remount=True).\n"
          ],
          "name": "stdout"
        }
      ]
    }
  ]
}