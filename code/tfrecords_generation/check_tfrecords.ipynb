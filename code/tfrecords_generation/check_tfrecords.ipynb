{
  "nbformat": 4,
  "nbformat_minor": 0,
  "metadata": {
    "colab": {
      "name": "check_tfrecords.ipynb",
      "provenance": [],
      "collapsed_sections": [],
      "authorship_tag": "ABX9TyM0fm/wzLIIwugz8/hPOQOQ",
      "include_colab_link": true
    },
    "kernelspec": {
      "name": "python3",
      "display_name": "Python 3"
    },
    "language_info": {
      "name": "python"
    }
  },
  "cells": [
    {
      "cell_type": "markdown",
      "metadata": {
        "id": "view-in-github",
        "colab_type": "text"
      },
      "source": [
        "<a href=\"https://colab.research.google.com/github/Angelvj/Alzheimer-disease-classification/blob/main/code/check_tfrecords.ipynb\" target=\"_parent\"><img src=\"https://colab.research.google.com/assets/colab-badge.svg\" alt=\"Open In Colab\"/></a>"
      ]
    },
    {
      "cell_type": "markdown",
      "metadata": {
        "id": "2Sv2EmILRh7i"
      },
      "source": [
        "# Imports"
      ]
    },
    {
      "cell_type": "code",
      "metadata": {
        "id": "ao_cM-jItjry"
      },
      "source": [
        "import numpy as np, os\n",
        "import tensorflow as tf\n",
        "import nibabel as nib\n",
        "from google.colab import drive"
      ],
      "execution_count": 1,
      "outputs": []
    },
    {
      "cell_type": "markdown",
      "metadata": {
        "id": "kbOX6XDh8ghW"
      },
      "source": [
        "# Connect to TPU"
      ]
    },
    {
      "cell_type": "code",
      "metadata": {
        "id": "md4-354H7iz0"
      },
      "source": [
        "DEVICE = 'TPU'\n",
        "\n",
        "if DEVICE == 'TPU':\n",
        "    try:\n",
        "        tpu = tf.distribute.cluster_resolver.TPUClusterResolver()\n",
        "        tf.config.experimental_connect_to_cluster(tpu)\n",
        "        tf.tpu.experimental.initialize_tpu_system(tpu)\n",
        "        STRATEGY = tf.distribute.experimental.TPUStrategy(tpu)\n",
        "    except ValueError:\n",
        "        print('Could not connect to TPU, setting default strategy')\n",
        "        tpu = None\n",
        "        STRATEGY = tf.distribute.get_strategy()\n",
        "elif DEVICE == 'GPU':\n",
        "    tpu = None\n",
        "    STRATEGY = tf.distribute.MirroredStrategy()\n",
        "    \n",
        "AUTO = tf.data.experimental.AUTOTUNE\n",
        "REPLICAS = STRATEGY.num_replicas_in_sync\n",
        "\n",
        "print(f'Number of accelerators: {REPLICAS}')"
      ],
      "execution_count": null,
      "outputs": []
    },
    {
      "cell_type": "code",
      "metadata": {
        "id": "I0zdaqeKRoGZ"
      },
      "source": [
        "NUM_CLASSES = 3\n",
        "IMG_SHAPE = (79, 95, 68, 1)\n",
        "\n",
        "def load_image(path):    \n",
        "\n",
        "    img = nib.load(path)\n",
        "    img = np.asarray(img.dataobj, dtype=np.float32)\n",
        "    img = np.expand_dims(img, axis=3) # Add dummy axis for channel\n",
        "    return img\n",
        "\n",
        "def max_intensity_normalization(X, proportion):\n",
        "\n",
        "    n_max_values = int(np.prod(X.shape, axis=0) * proportion)\n",
        "    n_max_idx = np.unravel_index((X).argsort(axis=None)[-n_max_values:], X.shape)\n",
        "    mean = np.mean(X[n_max_idx])\n",
        "    X /= mean\n",
        "\n",
        "def preprocess_image(X, steps, arguments):\n",
        "\n",
        "    for f, args in zip(steps, arguments):\n",
        "        f(X, *arguments)\n",
        "\n",
        "\n",
        "def read_tfrecord(example):\n",
        "    tfrec_format = {\n",
        "        \"image\": tf.io.VarLenFeature(tf.float32),\n",
        "        \"one_hot_label\": tf.io.VarLenFeature(tf.float32),\n",
        "        \"filename\": tf.io.FixedLenFeature([], tf.string) \n",
        "    }\n",
        "\n",
        "    example = tf.io.parse_single_example(example, tfrec_format)\n",
        "    one_hot_label = tf.sparse.to_dense(example['one_hot_label'])\n",
        "    one_hot_label = tf.reshape(one_hot_label, [NUM_CLASSES])\n",
        "    image = tf.reshape(tf.sparse.to_dense(example['image']), IMG_SHAPE)\n",
        "    filename = example['filename']\n",
        "    \n",
        "    # TPU needs size to be known, so this doesn't work\n",
        "    #     image  = tf.reshape(example['image'], example['shape']) \n",
        "    return image, one_hot_label, filename\n",
        "\n",
        "def load_dataset(filenames):\n",
        "    \n",
        "    # Allow order-altering optimizations\n",
        "    option_no_order = tf.data.Options()\n",
        "    option_no_order.experimental_deterministic = False\n",
        "    \n",
        "    dataset = tf.data.TFRecordDataset(filenames, num_parallel_reads = AUTO)\n",
        "    dataset = dataset.with_options(option_no_order)\n",
        "    dataset = dataset.map(read_tfrecord, num_parallel_calls = AUTO)\n",
        "    return dataset\n",
        "\n",
        "def get_dataset(filenames, batch_size = 8):\n",
        "    dataset =  load_dataset(filenames)\n",
        "    dataset = dataset.batch(batch_size * REPLICAS)\n",
        "    dataset = dataset.prefetch(AUTO)\n",
        "    return dataset"
      ],
      "execution_count": 74,
      "outputs": []
    },
    {
      "cell_type": "code",
      "metadata": {
        "id": "SadRUp2iR7Ji"
      },
      "source": [
        "drive.mount('/content/drive')\n",
        "DATA_PATH = '/content/drive/My Drive/data/'\n",
        "\n",
        "DS_PATH = DATA_PATH + 'tfrec-20skf-PET-spatialnorm-elastic-wfilenames' # or GCS path"
      ],
      "execution_count": null,
      "outputs": []
    },
    {
      "cell_type": "markdown",
      "metadata": {
        "id": "X7HjXLveR-13"
      },
      "source": [
        "# Check Tfrecords\n",
        "\n",
        "Compare image readed from tfrecord with the original one"
      ]
    },
    {
      "cell_type": "code",
      "metadata": {
        "id": "prWex_LHmb4J"
      },
      "source": [
        "preprocess_steps = [max_intensity_normalization]\n",
        "preprocess_args = [(0.01)]\n",
        "\n",
        "def check_image(path, tfrec_img):\n",
        "    img = load_image(path)\n",
        "    np.nan_to_num(img, copy=False)\n",
        "    # preprocess_image(img, preprocess_steps, preprocess_args)\n",
        "\n",
        "\n",
        "    return np.all(img==tfrec_img)\n",
        "\n",
        "def get_label(path):\n",
        "    if '/NOR/' in path:\n",
        "        return np.array([1,0,0], dtype=int)\n",
        "    elif '/AD/' in path:\n",
        "        return np.array([0,1,0], dtype=int)\n",
        "    elif '/MCI/' in path:\n",
        "        return np.array([0,0,1], dtype=int)\n",
        "\n",
        "\n",
        "get_filenames = lambda pattern : tf.io.gfile.glob(pattern)\n",
        "\n",
        "pet_train = get_dataset(get_filenames(DS_PATH + '/train/*.tfrec'), batch_size=1)\n",
        "pet_test = get_dataset(get_filenames(DS_PATH + '/test/*.tfrec'), batch_size=1)\n",
        "\n",
        "for i, data in enumerate(pet_train):\n",
        "\n",
        "    print(i)\n",
        "\n",
        "    filename = data[2].numpy()[0].decode()\n",
        "    image = data[0].numpy()[0]\n",
        "    label = data[1].numpy()[0].astype(int)\n",
        "\n",
        "    if not check_image(filename, image):\n",
        "        print('Images differ')\n",
        "    \n",
        "    if not np.all(label == get_label(filename)):\n",
        "        print('Label and file does not match')"
      ],
      "execution_count": null,
      "outputs": []
    }
  ]
}