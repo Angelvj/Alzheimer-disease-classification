{
  "nbformat": 4,
  "nbformat_minor": 0,
  "metadata": {
    "colab": {
      "name": "generate_covid19_tfrecords.ipynb",
      "provenance": [],
      "authorship_tag": "ABX9TyOsNLU+hdhj9mkmJaMp/V+4",
      "include_colab_link": true
    },
    "kernelspec": {
      "name": "python3",
      "display_name": "Python 3"
    },
    "language_info": {
      "name": "python"
    }
  },
  "cells": [
    {
      "cell_type": "markdown",
      "metadata": {
        "id": "view-in-github",
        "colab_type": "text"
      },
      "source": [
        "<a href=\"https://colab.research.google.com/github/Angelvj/Alzheimer-disease-classification/blob/main/code/generate_covid19_tfrecords.ipynb\" target=\"_parent\"><img src=\"https://colab.research.google.com/assets/colab-badge.svg\" alt=\"Open In Colab\"/></a>"
      ]
    },
    {
      "cell_type": "code",
      "metadata": {
        "id": "Cpx-qXlnj7Ir"
      },
      "source": [
        "from google.colab import drive"
      ],
      "execution_count": 1,
      "outputs": []
    },
    {
      "cell_type": "code",
      "metadata": {
        "id": "LEboGZ4YkeZV"
      },
      "source": [
        "import sys\n",
        "import numpy as np, os, shutil, math\n",
        "import tensorflow as tf, csv\n",
        "from sklearn.model_selection import StratifiedKFold, KFold, train_test_split\n",
        "import nibabel as nib\n",
        "import skimage.transform as transform\n",
        "import matplotlib.pyplot as plt\n",
        "from scipy import ndimage"
      ],
      "execution_count": 2,
      "outputs": []
    },
    {
      "cell_type": "code",
      "metadata": {
        "id": "Db2Zu2-2kf6Y"
      },
      "source": [
        "def load_image(path, add_axis=True):\n",
        "    img = nib.load(path)\n",
        "    img = np.asarray(img.dataobj, dtype=np.float32)\n",
        "    if add_axis:\n",
        "        img = np.expand_dims(img, axis=3) # Add axis for channel\n",
        "    return img\n",
        "\n",
        "def normalize(img):\n",
        "    min = -1000\n",
        "    max = 400\n",
        "    img[img < min] = min\n",
        "    img[img > max] = max\n",
        "    img = (img - min)/(max - min)\n",
        "    return img\n",
        "    \n",
        "def resize_img(img, shape=(64, 128, 128)):\n",
        "    width = img.shape[0] / shape[0]\n",
        "    height = img.shape[1] / shape[1]\n",
        "    depth = img.shape[2] / shape[2]\n",
        "\n",
        "    depth_factor = 1/depth\n",
        "    width_factor = 1/width\n",
        "    height_factor = 1/height\n",
        "\n",
        "    img = ndimage.rotate(img, 90, reshape=False)\n",
        "    img = ndimage.zoom(img, (width_factor, height_factor, depth_factor), order=1)\n",
        "    return img\n",
        "\n",
        "def process(path):\n",
        "    img = load_image(path, add_axis=False)\n",
        "    img = normalize(img)\n",
        "    img = resize_img(img)\n",
        "    img = np.expand_dims(img, axis=3) # Channel's axis\n",
        "    return img"
      ],
      "execution_count": 3,
      "outputs": []
    },
    {
      "cell_type": "code",
      "metadata": {
        "id": "zjfFQnSmqUQw"
      },
      "source": [
        "# We can store three types of data in a TFRecord: bytestring, integer and floats. \n",
        "# They are always stored as lists, a single data element will be a list of size 1\n",
        "def _bytestring_feature(list_of_bytestrings):\n",
        "    return tf.train.Feature(bytes_list=tf.train.BytesList(value=list_of_bytestrings))\n",
        "\n",
        "def _float_feature(list_of_floats): # float32\n",
        "    return tf.train.Feature(float_list=tf.train.FloatList(value=list_of_floats))\n",
        "\n",
        "def _int_feature(list_of_ints): # int64\n",
        "    return tf.train.Feature(int64_list=tf.train.Int64List(value=list_of_ints))\n",
        "\n",
        "def to_tfrecord(image, label):\n",
        "    \n",
        "    one_hot_label = np.eye(3, dtype=np.float32)[label]\n",
        "        \n",
        "    feature = {\n",
        "        'image': _float_feature(image),\n",
        "        'one_hot_label': _float_feature(one_hot_label.tolist())\n",
        "    }\n",
        "    \n",
        "    # Create a Features message\n",
        "    return tf.train.Example(features=tf.train.Features(feature=feature))"
      ],
      "execution_count": 4,
      "outputs": []
    },
    {
      "cell_type": "code",
      "metadata": {
        "id": "aMc-5linqpiu"
      },
      "source": [
        "\n",
        "def generate_tfrecords(filenames, labels, dir, tfrec_name, num_folds=15, \n",
        "                       stratify=True, shuffle=True, random_state=None, make_summary=True):\n",
        "    \"\"\"Given path to images and corresponding labels, creates num_folds tfrecords \n",
        "    containing the images\"\"\"\n",
        "    \n",
        "    if not os.path.exists(dir):\n",
        "        os.makedirs(dir)\n",
        "    \n",
        "    if make_summary:\n",
        "        summary_filename = os.path.join(dir, tfrec_name,)\n",
        "        summary_filename += '_summary.csv'\n",
        "        with open(summary_filename, 'w', encoding='UTF8', newline='') as f:\n",
        "            csv_writer = csv.writer(f)\n",
        "            header = ['tfrec_id', '#samples']\n",
        "            header += [c for c in CLASSES]\n",
        "            csv_writer.writerow(header)\n",
        "\n",
        "        f = open(summary_filename, 'a', encoding='UTF8', newline='')\n",
        "        csv_writer = csv.writer(f)\n",
        "\n",
        "    if stratify:\n",
        "        kfold = StratifiedKFold(num_folds, shuffle, random_state)\n",
        "    else:\n",
        "        kfold = KFold(num_folds, shuffle, random_state)\n",
        "    \n",
        "    for n, (_, indices) in enumerate(kfold.split(filenames, labels)):\n",
        "                \n",
        "        name = f'{tfrec_name}_{n}-{len(indices)}.tfrec'\n",
        "\n",
        "        if make_summary:\n",
        "            num_samples = str(len(indices))\n",
        "            classes, count = np.unique(labels[indices], return_counts=True)\n",
        "            class_counts = np.zeros(len(CLASSES), dtype=np.int64)\n",
        "            class_counts[classes] = count\n",
        "            row = [name] + [num_samples] + list(class_counts.astype(str))\n",
        "            csv_writer.writerow(row)\n",
        "        \n",
        "        with tf.io.TFRecordWriter(os.path.join(dir, name)) as writer:\n",
        "\n",
        "            for index in indices:\n",
        "                filename = filenames[index]\n",
        "                label = labels[index]\n",
        "                img = np.nan_to_num(process(filename), copy=False)\n",
        "                example = to_tfrecord(img.ravel(), label)\n",
        "                writer.write(example.SerializeToString())"
      ],
      "execution_count": 5,
      "outputs": []
    },
    {
      "cell_type": "code",
      "metadata": {
        "colab": {
          "base_uri": "https://localhost:8080/"
        },
        "id": "kdDRkTdKrHNe",
        "outputId": "f0f615a9-82fd-45a5-c8d5-da58c2ef0d65"
      },
      "source": [
        "CLASSES = ['normal', 'covid']\n",
        "\n",
        "drive.mount('/content/drive')\n",
        "DATA_PATH = '/content/drive/My Drive/data/'\n",
        "\n",
        "SEED = 27"
      ],
      "execution_count": 6,
      "outputs": [
        {
          "output_type": "stream",
          "text": [
            "Mounted at /content/drive\n"
          ],
          "name": "stdout"
        }
      ]
    },
    {
      "cell_type": "code",
      "metadata": {
        "id": "h4daBNhosW5d"
      },
      "source": [
        "DS = 'COVID19'\n",
        "DS_PATH = DATA_PATH + DS\n",
        "\n",
        "# Path to images\n",
        "ct_paths = np.empty((0,), dtype=str)\n",
        "ct_labels = np.empty((0,), dtype=np.int64)\n",
        "\n",
        "for label, c in enumerate(CLASSES):\n",
        "    pattern = os.path.join(DS_PATH, c) + '/*.nii.gz'\n",
        "    ct_paths = np.concatenate((ct_paths, np.array(tf.io.gfile.glob(pattern))))\n",
        "    ct_labels = np.concatenate((ct_labels, np.full(len(ct_paths) - len(ct_labels), label, dtype=np.int64)))\n",
        "\n",
        "X_train, X_test, y_train, y_test = train_test_split(ct_paths, ct_labels, test_size = 0.2,\n",
        "                                                    random_state = SEED, stratify = ct_labels)"
      ],
      "execution_count": 9,
      "outputs": []
    },
    {
      "cell_type": "code",
      "metadata": {
        "id": "GyMDhjGEuqur"
      },
      "source": [
        "OUT_DS = 'tfrec-covid19'\n",
        "OUT_PATH = DATA_PATH + OUT_DS\n",
        "\n",
        "generate_tfrecords(X_train, y_train, OUT_PATH + '/train', 'train', len(X_train), \n",
        "                   False, False)\n",
        "\n",
        "generate_tfrecords(X_test, y_test, OUT_PATH + '/test', 'test', len(X_test),\n",
        "                   False, False)"
      ],
      "execution_count": null,
      "outputs": []
    }
  ]
}