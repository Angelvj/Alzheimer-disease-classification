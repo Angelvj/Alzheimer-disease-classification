{
  "nbformat": 4,
  "nbformat_minor": 0,
  "metadata": {
    "colab": {
      "name": "read_tfrecords.ipynb",
      "provenance": [],
      "collapsed_sections": [],
      "authorship_tag": "ABX9TyP0cVsdf/PmHAUeK+F+4wDQ",
      "include_colab_link": true
    },
    "kernelspec": {
      "name": "python3",
      "display_name": "Python 3"
    },
    "language_info": {
      "name": "python"
    },
    "accelerator": "GPU"
  },
  "cells": [
    {
      "cell_type": "markdown",
      "metadata": {
        "id": "view-in-github",
        "colab_type": "text"
      },
      "source": [
        "<a href=\"https://colab.research.google.com/github/Angelvj/TFG/blob/main/code/read_tfrecords.ipynb\" target=\"_parent\"><img src=\"https://colab.research.google.com/assets/colab-badge.svg\" alt=\"Open In Colab\"/></a>"
      ]
    },
    {
      "cell_type": "code",
      "metadata": {
        "id": "ao_cM-jItjry"
      },
      "source": [
        "import numpy as np, os\n",
        "import tensorflow as tf\n",
        "import nibabel as nib"
      ],
      "execution_count": 7,
      "outputs": []
    },
    {
      "cell_type": "markdown",
      "metadata": {
        "id": "HEnfWYvM9OnW"
      },
      "source": [
        "##Setup distributed strategy\n",
        "https://www.tensorflow.org/api_docs/python/tf/distribute/experimental/TPUStrategy\n",
        "\n",
        "https://www.tensorflow.org/guide/tpu#train_a_model_using_keras_high_level_apis\n",
        "\n",
        "**NOTE**: for using TPU, better to use **Kaggle**"
      ]
    },
    {
      "cell_type": "code",
      "metadata": {
        "colab": {
          "base_uri": "https://localhost:8080/"
        },
        "id": "5jyJ3eAg9Uow",
        "outputId": "3fe1696a-f595-4f2d-976a-d1306dd2f130"
      },
      "source": [
        "DEVICE = \"GPU\"\n",
        "\n",
        "if DEVICE == \"TPU\":\n",
        "    try:\n",
        "        tpu = tf.distribute.cluster_resolver.TPUClusterResolver()\n",
        "        print('Running on TPU', tpu.master())\n",
        "    except ValueError:\n",
        "        print('Could not connect to TPU')\n",
        "        tpu = None\n",
        "    \n",
        "    if tpu:\n",
        "        try:\n",
        "            print(\"initializing  TPU ...\")\n",
        "            tf.config.experimental_connect_to_cluster(tpu)\n",
        "            tf.tpu.experimental.initialize_tpu_system(tpu)\n",
        "            strategy = tf.distribute.experimental.TPUStrategy(tpu)\n",
        "            print(\"TPU initialized\")\n",
        "        except _:\n",
        "            print(\"failed to initialize TPU\")\n",
        "    else:\n",
        "        DEVICE = \"GPU\"\n",
        "\n",
        "if DEVICE != \"TPU\":\n",
        "    print(\"Using default strategy for CPU and single GPU\")\n",
        "    strategy = tf.distribute.get_strategy()\n",
        "\n",
        "if DEVICE == \"GPU\":\n",
        "    print(\"Num GPUs Available: \", len(tf.config.experimental.list_physical_devices('GPU')))\n",
        "\n",
        "AUTO     = tf.data.experimental.AUTOTUNE\n",
        "REPLICAS = strategy.num_replicas_in_sync\n",
        "print(f'REPLICAS: {REPLICAS}')"
      ],
      "execution_count": 9,
      "outputs": [
        {
          "output_type": "stream",
          "text": [
            "Using default strategy for CPU and single GPU\n",
            "Num GPUs Available:  1\n",
            "REPLICAS: 1\n"
          ],
          "name": "stdout"
        }
      ]
    },
    {
      "cell_type": "code",
      "metadata": {
        "id": "9dytrOE1tPUR"
      },
      "source": [
        "def parse_example(example):\n",
        "    features = {\n",
        "        \"image\": tf.io.FixedLenSequenceFeature(shape=(), dtype=tf.float32, allow_missing=True),\n",
        "        \"shape\": tf.io.FixedLenSequenceFeature(shape=(), dtype=tf.int64, allow_missing=True),\n",
        "        \"name\": tf.io.FixedLenFeature([], tf.string),\n",
        "        \"label\": tf.io.FixedLenFeature([], tf.int64)\n",
        "    }\n",
        "    \n",
        "    example = tf.io.parse_single_example(example, features) # Now each feature is a standard tensor\n",
        "    image  = tf.reshape(example['image'], example['shape'])\n",
        "    label = example['label']\n",
        "    name = example['name']\n",
        "\n",
        "    return image, name, label\n",
        "\n",
        "def get_dataset(files, repeat = False, shuffle = False, batch_size = 1):\n",
        "\n",
        "    raw_ds = tf.data.TFRecordDataset(files, num_parallel_reads=AUTO)\n",
        "    raw_ds = raw_ds.cache() # TOSEARCH: ¿what happens with BIG datasets?\n",
        "    \n",
        "    if repeat:\n",
        "        raw_ds.repeat()\n",
        "\n",
        "    if shuffle:\n",
        "        raw_ds = raw_ds.shuffle(len(files), reshuffle_each_iteration=None) # For perfect shuffling, buffer size == len(data)\n",
        "        opt = tf.data.Options()\n",
        "        opt.experimental_deterministic = False # outputs doesn't need to be produced on deterministic order (faster)\n",
        "        raw_ds = raw_ds.with_options(opt)\n",
        "\n",
        "    dataset = raw_ds.map(parse_example, num_parallel_calls=AUTO)\n",
        "\n",
        "    # Add data augmentation here\n",
        "    # dataset = dataset.map(lambda img, imgname_or_label: (prepare_image(img, augment=augment, dim=dim), \n",
        "    #                                            imgname_or_label), num_parallel_calls=AUTO)\n",
        "\n",
        "    # dataset = dataset.batch(batch_size * REPLICAS) # experimental_distribute_dataset uses the global batch size\n",
        "    # dataset = dataset.prefetch(AUTO)\n",
        "    return dataset"
      ],
      "execution_count": 10,
      "outputs": []
    },
    {
      "cell_type": "markdown",
      "metadata": {
        "id": "PDmT_Cfw2WTE"
      },
      "source": [
        "# Testing functions above "
      ]
    },
    {
      "cell_type": "code",
      "metadata": {
        "id": "prWex_LHmb4J"
      },
      "source": [
        "import matplotlib.pyplot as plt\n",
        "\n",
        "from google.colab import drive\n",
        "drive.mount('/content/drive')\n",
        "\n",
        "# Root data folder\n",
        "ROOT = '/content/drive/My Drive/Machine learning/data'\n",
        "\n",
        "# Path to brain data\n",
        "BRAIN = ROOT + '/alzheimer_pet&mri'\n",
        "BRAIN_PREPROCESSED = BRAIN + '/preprocessed'\n",
        "BRAIN_RAW = BRAIN + '/raw'\n",
        "\n",
        "# Paths brain images modalities\n",
        "PET_PREPROCESSED = BRAIN_PREPROCESSED + '/PET'\n",
        "MRI_PREPROCESSED= BRAIN_PREPROCESSED + '/MRI'\n",
        "PET_RAW = BRAIN_RAW + '/PET'\n",
        "MRI_RAW = BRAIN_RAW + '/MRI'\n",
        "\n",
        "# Preprocessed MRI subtypes (divided into grey and white matter)\n",
        "MRI_MATTER = ['GREY', 'WHITE']\n",
        " \n",
        "# Class subfolders and labels for each one\n",
        "CLASSES = ['ppNOR', 'ppAD', 'ppMCI'] \n",
        "LABELS = {'ppNOR': 0, 'ppAD': 1, 'ppMCI': 2}\n",
        "\n",
        "# ============== tfrecord folders ==============\n",
        "\n",
        "PET_PREPROCESSED_TFREC = PET_PREPROCESSED + '/tfrecords'\n",
        "MRI_PREPROCESSED_TFREC = MRI_PREPROCESSED + '/tfrecords'\n",
        "PET_RAW_TFREC = PET_RAW + '/tfrecords'\n",
        "MRI_RAW_TFREC = MRI_RAW + '/tfrecords'\n",
        "\n",
        "# =============== Get tfrecord filenames ===============\n",
        "\n",
        "get_tfrec = lambda path : [path + f for f in os.listdir(path) if os.path.splitext(f)[1] == '.tfrec']\n",
        "\n",
        "pet_prep_train = get_tfrec(PET_PREPROCESSED_TFREC + '/train/')\n",
        "pet_prep_test = get_tfrec(PET_PREPROCESSED_TFREC + '/test/')\n",
        "\n",
        "mri_prep_grey_train = get_tfrec(MRI_PREPROCESSED_TFREC + '/GREY/train/')\n",
        "mri_prep_grey_test = get_tfrec(MRI_PREPROCESSED_TFREC + '/GREY/test/')\n",
        "\n",
        "mri_prep_white_train = get_tfrec(MRI_PREPROCESSED_TFREC + '/WHITE/train/')\n",
        "mri_prep_white_test = get_tfrec(MRI_PREPROCESSED_TFREC + '/WHITE/test/')\n",
        "\n",
        "def show_slices(slices):\n",
        "    \"\"\" Function to display row of image slices \"\"\"\n",
        "    fig, axes = plt.subplots(1, len(slices))\n",
        "    for i, slice in enumerate(slices):\n",
        "        axes[i].imshow(slice.T, cmap=\"gray\", origin=\"lower\")\n",
        "    plt.show()\n",
        "\n",
        "dataset = get_dataset(pet_prep_train)\n",
        "\n",
        "for features in dataset.take(10):\n",
        "    image = features[0].numpy()\n",
        "    slice_0 = image[26, :, :, 0]\n",
        "    slice_1 = image[:, 30, :, 0]\n",
        "    slice_2 = image[:, :, 16, 0]\n",
        "\n",
        "    show_slices([slice_0, slice_1, slice_2])"
      ],
      "execution_count": null,
      "outputs": []
    }
  ]
}