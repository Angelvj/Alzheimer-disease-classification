{
  "nbformat": 4,
  "nbformat_minor": 0,
  "metadata": {
    "kernelspec": {
      "display_name": "Python 3",
      "language": "python",
      "name": "python3"
    },
    "language_info": {
      "codemirror_mode": {
        "name": "ipython",
        "version": 3
      },
      "file_extension": ".py",
      "mimetype": "text/x-python",
      "name": "python",
      "nbconvert_exporter": "python",
      "pygments_lexer": "ipython3",
      "version": "3.8.5"
    },
    "colab": {
      "name": "main.ipynb",
      "provenance": [],
      "machine_shape": "hm",
      "include_colab_link": true
    },
    "accelerator": "GPU"
  },
  "cells": [
    {
      "cell_type": "markdown",
      "metadata": {
        "id": "view-in-github",
        "colab_type": "text"
      },
      "source": [
        "<a href=\"https://colab.research.google.com/github/Angelvj/TFG/blob/main/code/jupyter/main.ipynb\" target=\"_parent\"><img src=\"https://colab.research.google.com/assets/colab-badge.svg\" alt=\"Open In Colab\"/></a>"
      ]
    },
    {
      "cell_type": "code",
      "metadata": {
        "id": "sA36tehHryhd"
      },
      "source": [
        "# Imports\n",
        "import numpy as np\n",
        "import tensorflow as tf\n",
        "import keras as k\n",
        "import sklearn\n",
        "import nibabel as nib\n",
        "from sklearn.model_selection import train_test_split\n",
        "from keras.datasets import mnist\n",
        "from keras import models\n",
        "from keras.models import Sequential\n",
        "from keras.layers import Dense, Flatten, Conv3D, MaxPooling3D, Dropout, BatchNormalization, MaxPool3D, GlobalAveragePooling3D\n",
        "from keras.utils import to_categorical\n",
        "import matplotlib.pyplot as plt\n",
        "\n",
        "import time\n",
        "import glob\n",
        "from tqdm import tqdm\n",
        "\n",
        "from sklearn.model_selection import train_test_split\n",
        "from sklearn.model_selection import KFold, StratifiedKFold\n",
        "\n",
        "from sklearn import svm\n",
        "from sklearn.linear_model import SGDClassifier \n",
        "from sklearn.svm import LinearSVC\n",
        "from sklearn import decomposition\n",
        "from sklearn.pipeline import make_pipeline\n",
        "from sklearn.preprocessing import StandardScaler"
      ],
      "execution_count": null,
      "outputs": []
    },
    {
      "cell_type": "markdown",
      "metadata": {
        "id": "cCMEYyQ-UYaS"
      },
      "source": [
        "# Load data and impute NaN values"
      ]
    },
    {
      "cell_type": "code",
      "metadata": {
        "id": "KZf1JmliAMNN",
        "colab": {
          "base_uri": "https://localhost:8080/"
        },
        "outputId": "d8a466bd-fc73-47ac-b085-0ee51e1da7b4"
      },
      "source": [
        "# Load data\n",
        "COLAB = True\n",
        "\n",
        "if COLAB:\n",
        "  from google.colab import drive\n",
        "  drive.mount('/content/drive')\n",
        "  DATA_PATH = '/content/drive/My Drive/Machine learning/data'\n",
        "\n",
        "else: \n",
        "  DATA_PATH = '../../data'\n",
        "\n",
        "def load_image(filename):    \n",
        "    \"\"\"\n",
        "    \n",
        "    Parameters\n",
        "    ----------\n",
        "    filename : str\n",
        "        relative path to de image\n",
        "\n",
        "    Returns\n",
        "    -------\n",
        "    img : numpy ndarray\n",
        "        array containing the image\n",
        "        \n",
        "    \"\"\"\n",
        "    img = nib.load(filename)\n",
        "    img = np.asarray(img.dataobj)\n",
        "    img = np.expand_dims(img, axis=3)\n",
        "    return img\n",
        "\n",
        "\n",
        "def load_images_from_dir(dirname):\n",
        "    \"\"\"\n",
        "    \n",
        "    Parameters\n",
        "    ----------\n",
        "    dirname : str\n",
        "        name of the directory containing images.\n",
        "\n",
        "    Returns\n",
        "    -------\n",
        "    imgs : numpy ndarray\n",
        "        array containing all of the images in the folder.\n",
        "\n",
        "    \"\"\"\n",
        "    imgs = []\n",
        "\n",
        "    for filename in tqdm(glob.glob(dirname + '/*.nii')):\n",
        "        imgs.append(load_image(filename))\n",
        "        \n",
        "    imgs = np.stack(imgs) # All images over the new first dimension\n",
        "    return imgs\n",
        "\n",
        "def load_data(dirs_dict, categorical = False):\n",
        "    \"\"\"\n",
        "    \n",
        "    Parameters\n",
        "    ----------\n",
        "    dirs_dict : dictionary\n",
        "        dictionary containing data folders name, and the label for the images\n",
        "        on each forlder.\n",
        "\n",
        "    Returns\n",
        "    -------\n",
        "    x : numpy ndarray\n",
        "        array containing the images.\n",
        "    y : numpy ndarray\n",
        "        array containig the label of each image.\n",
        "\n",
        "    \"\"\"\n",
        "    first = True\n",
        "    for key, value in dirs_dict.items():\n",
        "        if first:\n",
        "            X = load_images_from_dir(value)\n",
        "            # ¿necesario float32 o puedo usar uint8?\n",
        "            y = np.full((X.shape[0]), key, dtype=np.float32)\n",
        "            first = False\n",
        "        else:\n",
        "            X_current = load_images_from_dir(value)\n",
        "            X = np.concatenate((X, X_current), axis=0)\n",
        "            y = np.concatenate((y, np.full((X_current.shape[0]), key, dtype=np.float32)), axis=0)\n",
        "            \n",
        "    if categorical:\n",
        "        y = k.utils.to_categorical(y)\n",
        "    \n",
        "    return X, y\n",
        "\n",
        "def impute_nan_values(imgs, inplace=True):\n",
        "    # Replace nan values with 0\n",
        "    return np.nan_to_num(imgs, copy = not inplace)\n",
        "\n",
        "# Load PET images with labels\n",
        "print('\\n --- Loading PET data --- \\n')\n",
        "time.sleep(0.5)\n",
        "X, y = load_data({0: DATA_PATH + \"/ppNOR/PET\", \n",
        "                  1: DATA_PATH + \"/ppAD/PET\",\n",
        "                  2: DATA_PATH + \"/ppMCI/PET\"})\n",
        "\n",
        "# Separate into training and test sets (stratified)\n",
        "X_train, X_test, y_train, y_test = train_test_split(\n",
        "    X, y, test_size = 0.2, stratify = y, random_state = 1)\n",
        "\n",
        "impute_nan_values(X_train)\n",
        "impute_nan_values(X_test)\n",
        "\n",
        "print('\\n --- PET data loaded --- \\n')"
      ],
      "execution_count": null,
      "outputs": [
        {
          "output_type": "stream",
          "text": [
            "Drive already mounted at /content/drive; to attempt to forcibly remount, call drive.mount(\"/content/drive\", force_remount=True).\n",
            "\n",
            " --- Loading PET data --- \n",
            "\n"
          ],
          "name": "stdout"
        },
        {
          "output_type": "stream",
          "text": [
            "100%|██████████| 68/68 [00:00<00:00, 257.04it/s]\n",
            "100%|██████████| 70/70 [00:00<00:00, 249.32it/s]\n",
            "100%|██████████| 111/111 [00:00<00:00, 255.02it/s]\n"
          ],
          "name": "stderr"
        },
        {
          "output_type": "stream",
          "text": [
            "\n",
            " --- PET data loaded --- \n",
            "\n"
          ],
          "name": "stdout"
        }
      ]
    },
    {
      "cell_type": "markdown",
      "metadata": {
        "id": "zf_tgVdodQ6E"
      },
      "source": [
        "# Preprocessing data"
      ]
    },
    {
      "cell_type": "code",
      "metadata": {
        "id": "Fm7JaiUnr7ZI"
      },
      "source": [
        "def max_intensity_normalization(X, percentage, inplace=True):\n",
        "\n",
        "    if not inplace:\n",
        "        X = X.copy()\n",
        "\n",
        "    volume_shape = X[0].shape\n",
        "    n_max_values = int((volume_shape[0]*volume_shape[1]*volume_shape[2]*percentage)/100)\n",
        "\n",
        "    for i in range(len(X)):\n",
        "        n_max_idx = np.unravel_index((X[i]).argsort(axis=None)[-n_max_values:], X[i].shape)\n",
        "        mean = np.mean(X[i][n_max_idx])\n",
        "        X[i] /= mean\n",
        "\n",
        "    if not inplace:\n",
        "        return X\n",
        "\n",
        "X_train_n = max_intensity_normalization(X_train, 1, inplace=False)"
      ],
      "execution_count": null,
      "outputs": []
    },
    {
      "cell_type": "code",
      "metadata": {
        "colab": {
          "base_uri": "https://localhost:8080/"
        },
        "id": "ZLuS8qfUkHAe",
        "outputId": "2f2696bb-a31b-4d69-cf79-9d624f0a5fd9"
      },
      "source": [
        "# # Test SVM classifier first\n",
        "# x_tr, x_val, y_tr, y_val = train_test_split(X_train_n, y_train, test_size = 0.2, stratify = y_train)\n",
        "\n",
        "# x_tr_1D = np.empty((x_tr.shape[0], x_tr.shape[1]*x_tr.shape[2]*x_tr.shape[3]))\n",
        "\n",
        "# # Convert each image to a single dimension ndarray\n",
        "# for i in range(len(x_tr)):\n",
        "#     x_tr_1D[i] = x_tr[i].flatten()\n",
        "\n",
        "# x_val_1D = np.empty((x_val.shape[0], x_val.shape[1]*x_val.shape[2]*x_val.shape[3]))\n",
        "# for i in range(len(y_val)):\n",
        "#     x_val_1D[i] = x_val[i].flatten()\n",
        "\n",
        "# # clf = svm.SVC(kernel='linear', C=0.8)\n",
        "# # clf = make_pipeline(StandardScaler(), LinearSVC(random_state=0, tol=1e-5, C=0.05)) # 0.48 en 5 tiradas\n",
        "# # clf.fit(x_tr_1D, y_tr)\n",
        "\n",
        "# print(clf.score(x_tr_1D, y_tr))\n",
        "# print(clf.score(x_val_1D, y_val))"
      ],
      "execution_count": null,
      "outputs": [
        {
          "output_type": "stream",
          "text": [
            "(159, 510340)\n",
            "(40, 510340)\n",
            "[11. 11. 18.]\n",
            "1.0\n",
            "0.475\n"
          ],
          "name": "stdout"
        }
      ]
    },
    {
      "cell_type": "code",
      "metadata": {
        "id": "Bo5R0R8Q385b",
        "colab": {
          "base_uri": "https://localhost:8080/"
        },
        "outputId": "3bdccd97-48f5-47e7-9ae9-e304e57dddff"
      },
      "source": [
        "# Loading MRI images, its a bit different process because they are separated into \n",
        "# gray and white matter\n",
        "\n",
        "# def load_mri_data(dict_dirs, categorical = False):\n",
        "#     pass\n",
        "\n",
        "# # Pruebo a cargar una imagen cualquiera\n",
        "# image = load_image(DATA_PATH + \"/ppNOR/MRI/greyMatter/m0wrp1ADNI_005_S_0223_MR_MPR-R__GradWarp__B1_Correction__N3__Scaled_Br_20070809183352346_S19963_I66520.nii\")\n",
        "\n",
        "# print(type(image))\n",
        "# print(image.shape)"
      ],
      "execution_count": null,
      "outputs": [
        {
          "output_type": "stream",
          "text": [
            "<class 'numpy.ndarray'>\n",
            "(121, 145, 121, 1)\n"
          ],
          "name": "stdout"
        }
      ]
    },
    {
      "cell_type": "code",
      "metadata": {
        "id": "AQFcE3TcwW3m"
      },
      "source": [
        "def learning_curve(hist):\n",
        "    history_dict = hist.history\n",
        "    loss = history_dict['loss']\n",
        "    val_loss = history_dict['val_loss']\n",
        "    plt.plot(loss)\n",
        "    plt.plot(val_loss)\n",
        "    plt.legend(['Training loss', 'Validation loss'])\n",
        "    plt.show()\n",
        "\n",
        "    acc = hist.history['accuracy']\n",
        "    val_acc = hist.history['val_accuracy']\n",
        "    plt.plot(acc)\n",
        "    plt.plot(val_acc)\n",
        "    plt.legend(['Training accuracy','Validation accuracy'])\n",
        "    plt.show()"
      ],
      "execution_count": null,
      "outputs": []
    },
    {
      "cell_type": "code",
      "metadata": {
        "id": "9yCcZQKccaYm"
      },
      "source": [
        "def cross_validate(model, x_train, y_train, num_folds, opt, batch_size, epochs, verbose=0, show_history=False):\n",
        "\n",
        "    # Creamos un objeto kfold, especificando el número de segmentos que queremos utilizar,\n",
        "    # además utilizamos shuffle true, para que los num_folds conjuntos disjuntos se seleccionen\n",
        "    # de forma aleatoria, evitando de esta forma problemas que podría haber si los datos\n",
        "    # estuvieran ordenados siguiendo una cierta distribución\n",
        "\n",
        "    skfold = StratifiedKFold(n_splits = num_folds, shuffle=True)\n",
        "\n",
        "    model.compile(loss = k.losses.categorical_crossentropy, optimizer=opt,\n",
        "                metrics = ['accuracy'])\n",
        "\n",
        "    initial_weights = model.get_weights()\n",
        "\n",
        "    acc_per_fold = []\n",
        "    loss_per_fold = []\n",
        "\n",
        "    fold_no = 1\n",
        "\n",
        "    for kfold_train, kfold_test in skfold.split(x_train, y_train):\n",
        "\n",
        "        # En cada fold, comenzamos con los pesos iniciales. Tratamos de que las 5\n",
        "        # folds sean lo más independientes posible.\n",
        "        model.set_weights(initial_weights)\n",
        "\n",
        "        print('------------------------------------------------------------------------')\n",
        "        print(f'Entrenando para el fold {fold_no} ...')\n",
        "\n",
        "\n",
        "        print('Clases en train: ', np.sum(k.utils.to_categorical(y_train[kfold_train]), axis=0))\n",
        "        print('Clases en validación: ', np.sum(k.utils.to_categorical(y_train[kfold_test]), axis=0))\n",
        "\n",
        "        history = model.fit(x_train[kfold_train], \n",
        "                            k.utils.to_categorical(y_train[kfold_train]), \n",
        "                            batch_size= batch_size,\n",
        "                            epochs=epochs, verbose = verbose, \n",
        "                            validation_data = (x_train[kfold_test], k.utils.to_categorical(y_train[kfold_test]))\n",
        "                            )\n",
        "\n",
        "        if show_history:\n",
        "            # Mostramos la evolución en cada fold\n",
        "            learning_curve(history)\n",
        "\n",
        "        # Número de épocas que se han utilizado\n",
        "        print('Numero de épocas realizadas: ', len(history.history['loss']))\n",
        "\n",
        "        # Calculamos la bondad del modelo para el fold reservado para testing\n",
        "        scores = model.evaluate(x_train[kfold_test], k.utils.to_categorical(y_train[kfold_test]), verbose=0)\n",
        "\n",
        "        # Vamos guardando el accuracy y pérdida para cada fold\n",
        "        acc_per_fold.append(scores[1])\n",
        "        loss_per_fold.append(scores[0])\n",
        "\n",
        "        print(f'Resultado para el fold {fold_no}: {model.metrics_names[0]} de {scores[0]}; {model.metrics_names[1]} de {scores[1]*100}%')\n",
        "\n",
        "        fold_no += 1\n",
        "\n",
        "    # ==  Mostramos los valores medios == \n",
        "    print('------------------------------------------------------------------------')\n",
        "    print('Resultados por cada fold')\n",
        "    for i in range(0, len(acc_per_fold)):\n",
        "        print('------------------------------------------------------------------------')\n",
        "        print(f'> Fold {i+1} - Loss: {loss_per_fold[i]} - Accuracy: {acc_per_fold[i]}%')\n",
        "    print('------------------------------------------------------------------------')\n",
        "    print('Media de los resultados para todos los folds:')\n",
        "    print(f'> Accuracy: {np.mean(acc_per_fold)}')\n",
        "    print(f'> Loss: {np.mean(loss_per_fold)}')\n",
        "    print('------------------------------------------------------------------------')"
      ],
      "execution_count": null,
      "outputs": []
    },
    {
      "cell_type": "code",
      "metadata": {
        "colab": {
          "base_uri": "https://localhost:8080/",
          "height": 1000
        },
        "id": "__EGiOvl5IjU",
        "outputId": "b215c861-5ae2-4ec4-c189-d102f28aaa3d"
      },
      "source": [
        "# CNN MODELS\n",
        "\n",
        "# Model configuration\n",
        "sample_shape = (79,95,68,1)\n",
        "no_classes = 3\n",
        "\n",
        "# First very basic model:\n",
        "'''\n",
        "Problemas de este modelo:\n",
        "\n",
        " - A pesar de ser muy pequeño sufre de overfitting (bajo error en training pero\n",
        " alto en validación/validación cruzada) --> realmente no hay tantísimo, podría\n",
        " ser peor.\n",
        "\n",
        " - Muy poco profundo, por lo que probablemente las características que es capaz\n",
        " de extraer de las imágenes no sean excesivamente ricas. \n",
        "\n",
        "'''\n",
        "# model = Sequential()\n",
        "# model.add(Conv3D(32, kernel_size=(3,3,3), activation='relu', input_shape=sample_shape))\n",
        "# model.add(MaxPooling3D(pool_size=(2,2,2)))\n",
        "# model.add(Conv3D(32, kernel_size=(3,3,3), activation='relu'))\n",
        "# model.add(MaxPooling3D(pool_size=(2,2,2)))\n",
        "# model.add(Flatten())\n",
        "# model.add(Dense(256, activation='relu'))\n",
        "# model.add(Dense(no_classes, activation='softmax'))\n",
        "# model.summary()\n",
        "\n",
        "\n",
        "# Second model: little deeper\n",
        "def get_model(width=79, height=95, depth=68):\n",
        "    \"\"\"Build a 3D convolutional neural network model.\"\"\"\n",
        "\n",
        "    inputs = k.Input((width, height, depth, 1))\n",
        "\n",
        "    x = Conv3D(filters=64, kernel_size=3, activation=\"relu\")(inputs)\n",
        "    x = MaxPool3D(pool_size=2)(x)\n",
        "    x = BatchNormalization()(x)\n",
        "\n",
        "    x = Conv3D(filters=64, kernel_size=3, activation=\"relu\")(x)\n",
        "    x = MaxPool3D(pool_size=2)(x)\n",
        "    x = BatchNormalization()(x)\n",
        "\n",
        "    x = Conv3D(filters=128, kernel_size=3, activation=\"relu\")(x)\n",
        "    x = MaxPool3D(pool_size=2)(x)\n",
        "    x = BatchNormalization()(x)\n",
        "\n",
        "    x = Conv3D(filters=256, kernel_size=3, activation=\"relu\")(x)\n",
        "    x = MaxPool3D(pool_size=2)(x)\n",
        "    x = BatchNormalization()(x)\n",
        "\n",
        "    x = GlobalAveragePooling3D()(x)\n",
        "    x = Dense(units=512, activation=\"relu\")(x)\n",
        "    x = Dropout(0.3)(x)\n",
        "\n",
        "    outputs = Dense(units=3, activation=\"softmax\")(x)\n",
        "\n",
        "    # Define the model.\n",
        "    model = k.Model(inputs, outputs, name=\"3dcnn\")\n",
        "    return model\n",
        "\n",
        "\n",
        "# # Build model.\n",
        "model = get_model(width=79, height=95, depth=68)\n",
        "model.summary()\n",
        "\n",
        "\n",
        "# Compile the model \n",
        "model.compile(loss='categorical_crossentropy', optimizer=k.optimizers.Adam(), metrics=['accuracy'])\n",
        "\n",
        "# Fit model to data\n",
        "history = model.fit(X_train, k.utils.to_categorical(y_train), batch_size=16, \n",
        "                    epochs=30, verbose=1, validation_split=0.2)\n",
        "\n",
        "learning_curve(history)\n",
        "\n",
        "# cross_validate(model, X_train, y_train, 5, k.optimizers.Adam(lr=0.0001), 16, 12, \n",
        "#                verbose = 1, show_history = True)"
      ],
      "execution_count": null,
      "outputs": [
        {
          "output_type": "stream",
          "text": [
            "Model: \"3dcnn\"\n",
            "_________________________________________________________________\n",
            "Layer (type)                 Output Shape              Param #   \n",
            "=================================================================\n",
            "input_1 (InputLayer)         [(None, 79, 95, 68, 1)]   0         \n",
            "_________________________________________________________________\n",
            "conv3d_4 (Conv3D)            (None, 77, 93, 66, 64)    1792      \n",
            "_________________________________________________________________\n",
            "max_pooling3d_4 (MaxPooling3 (None, 38, 46, 33, 64)    0         \n",
            "_________________________________________________________________\n",
            "batch_normalization (BatchNo (None, 38, 46, 33, 64)    256       \n",
            "_________________________________________________________________\n",
            "conv3d_5 (Conv3D)            (None, 36, 44, 31, 64)    110656    \n",
            "_________________________________________________________________\n",
            "max_pooling3d_5 (MaxPooling3 (None, 18, 22, 15, 64)    0         \n",
            "_________________________________________________________________\n",
            "batch_normalization_1 (Batch (None, 18, 22, 15, 64)    256       \n",
            "_________________________________________________________________\n",
            "conv3d_6 (Conv3D)            (None, 16, 20, 13, 128)   221312    \n",
            "_________________________________________________________________\n",
            "max_pooling3d_6 (MaxPooling3 (None, 8, 10, 6, 128)     0         \n",
            "_________________________________________________________________\n",
            "batch_normalization_2 (Batch (None, 8, 10, 6, 128)     512       \n",
            "_________________________________________________________________\n",
            "conv3d_7 (Conv3D)            (None, 6, 8, 4, 256)      884992    \n",
            "_________________________________________________________________\n",
            "max_pooling3d_7 (MaxPooling3 (None, 3, 4, 2, 256)      0         \n",
            "_________________________________________________________________\n",
            "batch_normalization_3 (Batch (None, 3, 4, 2, 256)      1024      \n",
            "_________________________________________________________________\n",
            "global_average_pooling3d (Gl (None, 256)               0         \n",
            "_________________________________________________________________\n",
            "dense_4 (Dense)              (None, 512)               131584    \n",
            "_________________________________________________________________\n",
            "dropout (Dropout)            (None, 512)               0         \n",
            "_________________________________________________________________\n",
            "dense_5 (Dense)              (None, 3)                 1539      \n",
            "=================================================================\n",
            "Total params: 1,353,923\n",
            "Trainable params: 1,352,899\n",
            "Non-trainable params: 1,024\n",
            "_________________________________________________________________\n",
            "Epoch 1/30\n",
            "10/10 [==============================] - 7s 495ms/step - loss: 0.3294 - accuracy: 0.8278 - val_loss: 163.0009 - val_accuracy: 0.5000\n",
            "Epoch 2/30\n",
            "10/10 [==============================] - 4s 354ms/step - loss: 0.0770 - accuracy: 0.9592 - val_loss: 322.8703 - val_accuracy: 0.5000\n",
            "Epoch 3/30\n",
            "10/10 [==============================] - 3s 353ms/step - loss: 0.0038 - accuracy: 1.0000 - val_loss: 259.9614 - val_accuracy: 0.5000\n",
            "Epoch 4/30\n",
            "10/10 [==============================] - 3s 353ms/step - loss: 0.0134 - accuracy: 1.0000 - val_loss: 217.0354 - val_accuracy: 0.5000\n",
            "Epoch 5/30\n",
            "10/10 [==============================] - 4s 354ms/step - loss: 3.7127e-04 - accuracy: 1.0000 - val_loss: 126.7727 - val_accuracy: 0.5000\n",
            "Epoch 6/30\n",
            "10/10 [==============================] - 3s 352ms/step - loss: 9.3841e-04 - accuracy: 1.0000 - val_loss: 72.8698 - val_accuracy: 0.5000\n",
            "Epoch 7/30\n",
            "10/10 [==============================] - 3s 353ms/step - loss: 0.0069 - accuracy: 1.0000 - val_loss: 45.1499 - val_accuracy: 0.5000\n",
            "Epoch 8/30\n",
            "10/10 [==============================] - 3s 353ms/step - loss: 0.0017 - accuracy: 1.0000 - val_loss: 27.2283 - val_accuracy: 0.7750\n",
            "Epoch 9/30\n",
            "10/10 [==============================] - 3s 353ms/step - loss: 4.1012e-05 - accuracy: 1.0000 - val_loss: 17.1818 - val_accuracy: 0.7750\n",
            "Epoch 10/30\n",
            "10/10 [==============================] - 3s 353ms/step - loss: 4.2569e-06 - accuracy: 1.0000 - val_loss: 10.8658 - val_accuracy: 0.7750\n",
            "Epoch 11/30\n",
            "10/10 [==============================] - 3s 353ms/step - loss: 2.5528e-05 - accuracy: 1.0000 - val_loss: 6.6052 - val_accuracy: 0.7750\n",
            "Epoch 12/30\n",
            "10/10 [==============================] - 3s 353ms/step - loss: 1.5058e-06 - accuracy: 1.0000 - val_loss: 3.4183 - val_accuracy: 0.7750\n",
            "Epoch 13/30\n",
            "10/10 [==============================] - 3s 352ms/step - loss: 0.0315 - accuracy: 0.9901 - val_loss: 3.8274 - val_accuracy: 0.7750\n",
            "Epoch 14/30\n",
            "10/10 [==============================] - 3s 353ms/step - loss: 0.0033 - accuracy: 1.0000 - val_loss: 2.1675 - val_accuracy: 0.7750\n",
            "Epoch 15/30\n",
            "10/10 [==============================] - 3s 352ms/step - loss: 2.0085e-04 - accuracy: 1.0000 - val_loss: 1.2203 - val_accuracy: 0.7750\n",
            "Epoch 16/30\n",
            "10/10 [==============================] - 4s 354ms/step - loss: 3.4956e-04 - accuracy: 1.0000 - val_loss: 0.7404 - val_accuracy: 0.7750\n",
            "Epoch 17/30\n",
            "10/10 [==============================] - 3s 353ms/step - loss: 2.2543e-04 - accuracy: 1.0000 - val_loss: 0.1766 - val_accuracy: 0.9500\n",
            "Epoch 18/30\n",
            "10/10 [==============================] - 3s 353ms/step - loss: 3.4995e-04 - accuracy: 1.0000 - val_loss: 0.0084 - val_accuracy: 1.0000\n",
            "Epoch 19/30\n",
            "10/10 [==============================] - 3s 353ms/step - loss: 4.1317e-04 - accuracy: 1.0000 - val_loss: 0.0010 - val_accuracy: 1.0000\n",
            "Epoch 20/30\n",
            "10/10 [==============================] - 3s 353ms/step - loss: 3.1014e-05 - accuracy: 1.0000 - val_loss: 1.8173e-04 - val_accuracy: 1.0000\n",
            "Epoch 21/30\n",
            "10/10 [==============================] - 3s 353ms/step - loss: 2.2312e-05 - accuracy: 1.0000 - val_loss: 4.7411e-05 - val_accuracy: 1.0000\n",
            "Epoch 22/30\n",
            "10/10 [==============================] - 3s 353ms/step - loss: 0.0033 - accuracy: 0.9989 - val_loss: 3.6526e-04 - val_accuracy: 1.0000\n",
            "Epoch 23/30\n",
            "10/10 [==============================] - 3s 352ms/step - loss: 0.0319 - accuracy: 0.9769 - val_loss: 3.1590e-07 - val_accuracy: 1.0000\n",
            "Epoch 24/30\n",
            "10/10 [==============================] - 4s 354ms/step - loss: 0.0129 - accuracy: 0.9828 - val_loss: 0.0000e+00 - val_accuracy: 1.0000\n",
            "Epoch 25/30\n",
            "10/10 [==============================] - 3s 352ms/step - loss: 2.7576e-06 - accuracy: 1.0000 - val_loss: 0.0000e+00 - val_accuracy: 1.0000\n",
            "Epoch 26/30\n",
            "10/10 [==============================] - 3s 353ms/step - loss: 2.0871e-06 - accuracy: 1.0000 - val_loss: 0.0000e+00 - val_accuracy: 1.0000\n",
            "Epoch 27/30\n",
            "10/10 [==============================] - 3s 353ms/step - loss: 9.1399e-05 - accuracy: 1.0000 - val_loss: 0.0000e+00 - val_accuracy: 1.0000\n",
            "Epoch 28/30\n",
            "10/10 [==============================] - 3s 353ms/step - loss: 4.2442e-05 - accuracy: 1.0000 - val_loss: 0.0000e+00 - val_accuracy: 1.0000\n",
            "Epoch 29/30\n",
            "10/10 [==============================] - 4s 354ms/step - loss: 6.7782e-06 - accuracy: 1.0000 - val_loss: 0.0000e+00 - val_accuracy: 1.0000\n",
            "Epoch 30/30\n",
            "10/10 [==============================] - 3s 351ms/step - loss: 6.0810e-05 - accuracy: 1.0000 - val_loss: 0.0000e+00 - val_accuracy: 1.0000\n"
          ],
          "name": "stdout"
        },
        {
          "output_type": "display_data",
          "data": {
            "image/png": "[encoded data removed]",
            "text/plain": [
              "<Figure size 432x288 with 1 Axes>"
            ]
          },
          "metadata": {
            "tags": [],
            "needs_background": "light"
          }
        },
        {
          "output_type": "display_data",
          "data": {
            "image/png": "[encoded data removed]",
            "text/plain": [
              "<Figure size 432x288 with 1 Axes>"
            ]
          },
          "metadata": {
            "tags": [],
            "needs_background": "light"
          }
        }
      ]
    }
  ]
}